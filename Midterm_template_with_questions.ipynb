{
 "cells": [
  {
   "cell_type": "code",
   "execution_count": null,
   "metadata": {},
   "outputs": [],
   "source": [
    "import numpy as np\n",
    "import pandas as pd\n",
    "import matplotlib.pyplot as plt"
   ]
  },
  {
   "cell_type": "code",
   "execution_count": null,
   "metadata": {},
   "outputs": [],
   "source": [
    "# source: https://download.bls.gov/pub/time.series/ap/\n",
    "# save ap.data.3.food as a txt file\n",
    "apfood = pd.read_csv('ap.data.3.food.txt', sep = '\\t')\n",
    "apfood.value = pd.to_numeric(apfood.value, errors='coerce')  # converts the value column to numeric"
   ]
  },
  {
   "cell_type": "code",
   "execution_count": null,
   "metadata": {},
   "outputs": [],
   "source": [
    "apfood.series_id = apfood.series_id.str.strip() # remove whitespace from series_id"
   ]
  },
  {
   "cell_type": "code",
   "execution_count": null,
   "metadata": {},
   "outputs": [],
   "source": [
    "# Read section 4 of https://download.bls.gov/pub/time.series/ap/ap.txt\n",
    "# for how to understand the series_id\n",
    "# We extract the itemcode from the series_id and create a new column called 'item_code'\n",
    "apfood['item_code'] = apfood.series_id.str[-6:]"
   ]
  },
  {
   "cell_type": "code",
   "execution_count": null,
   "metadata": {},
   "outputs": [],
   "source": [
    "apfood.info()"
   ]
  },
  {
   "cell_type": "code",
   "execution_count": null,
   "metadata": {},
   "outputs": [],
   "source": [
    "print(apfood.head())"
   ]
  },
  {
   "cell_type": "code",
   "execution_count": null,
   "metadata": {},
   "outputs": [],
   "source": [
    "# source: https://download.bls.gov/pub/time.series/ap/\n",
    "# save ap.item as a txt file\n",
    "apitem = pd.read_csv('ap.item.txt', sep = '\\t')"
   ]
  },
  {
   "cell_type": "code",
   "execution_count": null,
   "metadata": {},
   "outputs": [],
   "source": [
    "print(apitem.head())"
   ]
  },
  {
   "cell_type": "code",
   "execution_count": null,
   "metadata": {},
   "outputs": [],
   "source": [
    "food = pd.merge(apfood, apitem, on = 'item_code')"
   ]
  },
  {
   "cell_type": "code",
   "execution_count": null,
   "metadata": {},
   "outputs": [],
   "source": [
    "food.info()"
   ]
  },
  {
   "cell_type": "code",
   "execution_count": null,
   "metadata": {},
   "outputs": [],
   "source": [
    "print(food.head())"
   ]
  },
  {
   "cell_type": "markdown",
   "metadata": {},
   "source": [
    "# Start here with your answer to question 1:"
   ]
  },
  {
   "cell_type": "markdown",
   "metadata": {},
   "source": [
    "## Part 1 – Extract Variables from Series ID\n",
    "\n",
    "1.\tExtract the area code from the Series ID. It is four digits. Store it as a string. Insert the series as a new column called ‘area’ in the DataFrame."
   ]
  },
  {
   "cell_type": "code",
   "execution_count": null,
   "metadata": {},
   "outputs": [],
   "source": [
    "area_code = [x[3:7] for x in food.series_id]\n",
    "food['area'] = area_code\n",
    "food.head()"
   ]
  },
  {
   "cell_type": "markdown",
   "metadata": {},
   "source": [
    "2.\tPrint out the unique area code values that appear. [5 pts]"
   ]
  },
  {
   "cell_type": "code",
   "execution_count": null,
   "metadata": {},
   "outputs": [],
   "source": [
    "food.area.unique()"
   ]
  },
  {
   "cell_type": "markdown",
   "metadata": {},
   "source": [
    "3.\tExtract the seasonal code from the Series ID. It is one character. Store as string. Insert the series as a new column called ‘season’ in the DataFrame."
   ]
  },
  {
   "cell_type": "code",
   "execution_count": null,
   "metadata": {},
   "outputs": [],
   "source": [
    "food['season'] = [x[2] for x in food.series_id]\n",
    "food.head()"
   ]
  },
  {
   "cell_type": "markdown",
   "metadata": {},
   "source": [
    "4.\tPrint out the unique season code values that appear. [5 pts]"
   ]
  },
  {
   "cell_type": "code",
   "execution_count": null,
   "metadata": {},
   "outputs": [],
   "source": [
    "food.season.unique()"
   ]
  },
  {
   "cell_type": "markdown",
   "metadata": {},
   "source": [
    "## Part 2 – Fruit Price comparison: Apples, Bananas, and Oranges\n",
    "\n",
    "### Guiding question: How do the prices of apples, bananas, and oranges compare to each other? Have the prices changed over the years? Do the prices change within each year?"
   ]
  },
  {
   "cell_type": "markdown",
   "metadata": {},
   "source": [
    "1.\tFilter the data:\n",
    "\n",
    "    - Use item codes: Apples 711111, Bananas 711211, Oranges 711311\n",
    "    - Use area code = ‘0000’ (US City avg only)\n",
    "    - Filter to data from January 2000 and later\n",
    "    - Print the shape of the resulting filtered data [10 pts]"
   ]
  },
  {
   "cell_type": "code",
   "execution_count": null,
   "metadata": {},
   "outputs": [],
   "source": [
    "a = food.item_code.isin(['711111', '711211', '711311'])\n",
    "b = (food.area == '0000')\n",
    "c = (food.year >= 2000)"
   ]
  },
  {
   "cell_type": "code",
   "execution_count": null,
   "metadata": {},
   "outputs": [],
   "source": [
    "df2 = food.loc[a&b&c,:]\n",
    "df2.shape"
   ]
  },
  {
   "cell_type": "markdown",
   "metadata": {},
   "source": [
    "2.\tChange the index to be dates of the first of each month\n",
    "\n",
    "    - For example, the index for 2000, M01 should be 2000-01-01\n",
    "    - The index for 2019, M05, should be 2019-05-01\n",
    "    - Print the head of the resulting DataFrame [10 pts]"
   ]
  },
  {
   "cell_type": "code",
   "execution_count": null,
   "metadata": {},
   "outputs": [],
   "source": [
    "df2.set_index(df2.loc[:,['year', 'period']].apply(\n",
    "    lambda x: pd.datetime(\n",
    "        year=int(x[0]), \n",
    "        month=int(x[1][1:]),\n",
    "        day=1), axis=1), inplace=True)"
   ]
  },
  {
   "cell_type": "code",
   "execution_count": null,
   "metadata": {},
   "outputs": [],
   "source": [
    "df2.head()"
   ]
  },
  {
   "cell_type": "markdown",
   "metadata": {},
   "source": [
    "3.\tCreate a plot showing three lines: one for each fruit versus the month (with appropriate labels, tick marks, and legends) [10 pts]\n"
   ]
  },
  {
   "cell_type": "code",
   "execution_count": null,
   "metadata": {},
   "outputs": [],
   "source": [
    "plt.plot('index', 'value', label='Apple',data=df2.loc[df2.item_code == '711111',:].reset_index())\n",
    "plt.plot('index', 'value', label='Banana', data=df2.loc[df2.item_code == '711211',:].reset_index())\n",
    "plt.plot('index', 'value', label='Orange', data=df2.loc[df2.item_code == '711311',:].reset_index())\n",
    "plt.legend()\n",
    "plt.title('Average price')\n",
    "plt.ylabel('Cost per Pound $')\n",
    "plt.show()"
   ]
  },
  {
   "cell_type": "markdown",
   "metadata": {},
   "source": [
    "4.\tLet’s say we want to just look at overall trends by looking at the average price over the year.\n",
    "\n",
    "    - Calculate the average price of the fruit for each year. For example, find the mean price of apples during the year 2000, during the year 2001, etc.\n",
    "    - Print your results. Should be a DataFrame with 20 rows (one for each year) and 3 columns (one for each fruit). Partial points for separate series or DataFrames. [10 pts]"
   ]
  },
  {
   "cell_type": "code",
   "execution_count": null,
   "metadata": {},
   "outputs": [],
   "source": [
    "df_mean = df2.groupby(['year','item_code']).value.mean().unstack().rename(\n",
    "    columns={'711111':'Apple',\n",
    "            '711211':'Banana',\n",
    "            '711311':'Orange'})\n",
    "df_mean.columns.name = 'item'\n",
    "df_mean"
   ]
  },
  {
   "cell_type": "markdown",
   "metadata": {},
   "source": [
    "- Create plot showing the annual cost of the fruit (with appropriate labels, tick marks plt.xticks, and legends) [10 pts]\n"
   ]
  },
  {
   "cell_type": "code",
   "execution_count": null,
   "metadata": {},
   "outputs": [],
   "source": [
    "plt.margins(x=0)\n",
    "plt.xticks(np.linspace(2000,2018,10))\n",
    "plt.plot('year', 'Apple',  data=df_mean.reset_index())\n",
    "plt.plot('year', 'Banana', data=df_mean.reset_index())\n",
    "plt.plot('year', 'Orange', data=df_mean.reset_index())\n",
    "plt.legend()\n",
    "plt.xlabel('year')\n",
    "plt.title('Annual Average Price')\n",
    "plt.ylabel('Cost per Pound $')\n",
    "plt.show()"
   ]
  },
  {
   "cell_type": "markdown",
   "metadata": {},
   "source": [
    "5.\tWhen we look at the monthly prices, we see that oranges seem to exhibit seasonal prices. Let’s explore this further\n",
    "\n",
    "    - Group the data by month and calculate the average price for each fruit for that month\n",
    "i.\tFor example, find the average price of oranges in the month of January (this value is calculated by looking at , and the average price of oranges in the month of February, etc.\n",
    "    - Print your results (should be a 12 x 3 DataFrame). Partial points for separate series or DataFrames [10 pts]"
   ]
  },
  {
   "cell_type": "code",
   "execution_count": null,
   "metadata": {},
   "outputs": [],
   "source": [
    "df_mean_month = df2.groupby(['period','item_code']).value.mean().unstack().rename(\n",
    "    columns={'711111':'Apple',\n",
    "            '711211':'Banana',\n",
    "            '711311':'Orange'})\n",
    "df_mean_month.columns.name = 'item'\n",
    "df_mean_month"
   ]
  },
  {
   "cell_type": "markdown",
   "metadata": {},
   "source": [
    "- Create a plot (with appropriate labels, tick marks, and legends). [10 pts]\n"
   ]
  },
  {
   "cell_type": "code",
   "execution_count": null,
   "metadata": {},
   "outputs": [],
   "source": [
    "plt.margins(x=0)\n",
    "plt.plot('period', 'Apple',  data=df_mean_month.reset_index())\n",
    "plt.plot('period', 'Banana', data=df_mean_month.reset_index())\n",
    "plt.plot('period', 'Orange', data=df_mean_month.reset_index())\n",
    "plt.legend()\n",
    "plt.xticks(np.linspace(0,11,12), np.arange(1,13))\n",
    "plt.xlabel('Month')\n",
    "plt.title('Average monthly cost for years 2000-2018')\n",
    "plt.ylabel('Cost per Pound $')\n",
    "plt.show()"
   ]
  },
  {
   "cell_type": "markdown",
   "metadata": {},
   "source": [
    "6.\tLet’s find months where there was an unusual spike in the cost of a fruit.\n",
    "\n",
    "    - Read the help on the function pd.DataFrame.diff()\n",
    "    - Find and print the mean price change between months [5 pts]\n"
   ]
  },
  {
   "cell_type": "code",
   "execution_count": null,
   "metadata": {},
   "outputs": [],
   "source": [
    "df3 = df2.pivot(columns='item_code', values='value').rename(columns={'711111':'Apple',\n",
    "            '711211':'Banana',\n",
    "            '711311':'Orange'})\n",
    "df3.head(20)"
   ]
  },
  {
   "cell_type": "code",
   "execution_count": null,
   "metadata": {},
   "outputs": [],
   "source": [
    "month_price_change = df3.diff()\n",
    "print(month_price_change.head())\n",
    "means = month_price_change.mean(axis=0)\n",
    "means"
   ]
  },
  {
   "cell_type": "markdown",
   "metadata": {},
   "source": [
    "- Find and print the standard deviation of the price changes between month [5 pts]"
   ]
  },
  {
   "cell_type": "code",
   "execution_count": null,
   "metadata": {},
   "outputs": [],
   "source": [
    "stds = month_price_change.std(axis=0)\n",
    "stds"
   ]
  },
  {
   "cell_type": "markdown",
   "metadata": {},
   "source": [
    "- Identify unusual price spikes: ones that are more than 2 SD above the mean monthly price change\n",
    "- For example, there’s a month where the cost of bananas jumped 5.7 cents, which was unusual. Identify the other ones. [10 pts]"
   ]
  },
  {
   "cell_type": "code",
   "execution_count": null,
   "metadata": {},
   "outputs": [],
   "source": [
    "month_price_change.loc[month_price_change.Apple > means.Apple + 2*stds.Apple, :]"
   ]
  },
  {
   "cell_type": "code",
   "execution_count": null,
   "metadata": {},
   "outputs": [],
   "source": [
    "month_price_change.loc[month_price_change.Banana > means.Banana + 2*stds.Banana, :]"
   ]
  },
  {
   "cell_type": "code",
   "execution_count": null,
   "metadata": {},
   "outputs": [],
   "source": [
    "month_price_change.loc[month_price_change.Orange > means.Orange + 2*stds.Orange, :]"
   ]
  },
  {
   "cell_type": "markdown",
   "metadata": {},
   "source": [
    "7.\t0 to 5 points bonus for answers:\n",
    "\n",
    "    - Comment on the cost relationship between apples, bananas, and oranges.\n",
    "    - Just saying bananas are cheaper than apples or oranges will not earn you any bonus points."
   ]
  },
  {
   "cell_type": "markdown",
   "metadata": {},
   "source": [
    "8.\t0 to 5 points bonus for answers:\n",
    "\n",
    "    - Explore differences in cost of fruit between regions."
   ]
  },
  {
   "cell_type": "code",
   "execution_count": null,
   "metadata": {},
   "outputs": [],
   "source": [
    "food.set_index(food.loc[:,['year', 'period']].apply(\n",
    "    lambda x: pd.datetime(\n",
    "        year=int(x[0]), \n",
    "        month=int(x[1][1:]),\n",
    "        day=1), axis=1), inplace=True)"
   ]
  }
 ],
 "metadata": {
  "kernelspec": {
   "display_name": "Python 3",
   "language": "python",
   "name": "python3"
  },
  "language_info": {
   "codemirror_mode": {
    "name": "ipython",
    "version": 3
   },
   "file_extension": ".py",
   "mimetype": "text/x-python",
   "name": "python",
   "nbconvert_exporter": "python",
   "pygments_lexer": "ipython3",
   "version": "3.7.4"
  }
 },
 "nbformat": 4,
 "nbformat_minor": 2
}
