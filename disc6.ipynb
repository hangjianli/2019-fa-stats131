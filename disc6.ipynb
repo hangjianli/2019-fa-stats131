{
 "cells": [
  {
   "cell_type": "code",
   "execution_count": null,
   "metadata": {},
   "outputs": [],
   "source": [
    "import pandas as pd\n",
    "import numpy as np\n",
    "\n",
    "from IPython.core.interactiveshell import InteractiveShell\n",
    "InteractiveShell.ast_node_interactivity = \"all\""
   ]
  },
  {
   "cell_type": "markdown",
   "metadata": {},
   "source": [
    "## Create multiIndex"
   ]
  },
  {
   "cell_type": "markdown",
   "metadata": {},
   "source": [
    "### Implicit MultiIndex constructors"
   ]
  },
  {
   "cell_type": "code",
   "execution_count": null,
   "metadata": {},
   "outputs": [],
   "source": [
    "df = pd.DataFrame(np.random.rand(4, 2),\n",
    "                  index=[['a', 'a', 'b', 'b'], [1, 2, 1, 2]],\n",
    "                  columns=['col1', 'col2'])\n",
    "df"
   ]
  },
  {
   "cell_type": "code",
   "execution_count": null,
   "metadata": {},
   "outputs": [],
   "source": [
    "data = {('California', 2000): 33871648,\n",
    "        ('California', 2010): 37253956,\n",
    "        ('Texas', 2000): 20851820,\n",
    "        ('Texas', 2010): 25145561,\n",
    "        ('New York', 2000): 18976457,\n",
    "        ('New York', 2010): 19378102}\n",
    "\n",
    "ds = pd.Series(data)\n",
    "ds"
   ]
  },
  {
   "cell_type": "markdown",
   "metadata": {},
   "source": [
    "###  Explicit MultiIndex constructors¶"
   ]
  },
  {
   "cell_type": "code",
   "execution_count": null,
   "metadata": {},
   "outputs": [],
   "source": [
    "pd.MultiIndex.from_arrays([['a', 'a', 'b', 'b'], [1, 2, 1, 2]])"
   ]
  },
  {
   "cell_type": "code",
   "execution_count": null,
   "metadata": {},
   "outputs": [],
   "source": [
    "pd.MultiIndex.from_tuples([('a', 1), ('a', 2), ('b', 1), ('b', 2)])"
   ]
  },
  {
   "cell_type": "code",
   "execution_count": null,
   "metadata": {},
   "outputs": [],
   "source": [
    "pd.MultiIndex.from_product([['a', 'b'], [1, 2]])"
   ]
  },
  {
   "cell_type": "markdown",
   "metadata": {},
   "source": [
    "### Level names"
   ]
  },
  {
   "cell_type": "code",
   "execution_count": null,
   "metadata": {},
   "outputs": [],
   "source": [
    "index = [('California', 2000), ('California', 2010),\n",
    "         ('New York', 2000), ('New York', 2010),\n",
    "         ('Texas', 2000), ('Texas', 2010)]\n",
    "populations = [33871648, 37253956,\n",
    "               18976457, 19378102,\n",
    "               20851820, 25145561]\n",
    "pop = pd.Series(populations, index=pd.MultiIndex.from_tuples(index))\n",
    "pop"
   ]
  },
  {
   "cell_type": "markdown",
   "metadata": {},
   "source": [
    "### With more involved datasets, this can be a useful way to keep track of the meaning of various index values."
   ]
  },
  {
   "cell_type": "code",
   "execution_count": null,
   "metadata": {
    "scrolled": true
   },
   "outputs": [],
   "source": [
    "pop.index.names = ['state', 'year']\n",
    "pop"
   ]
  },
  {
   "cell_type": "code",
   "execution_count": null,
   "metadata": {},
   "outputs": [],
   "source": [
    "df = pd.DataFrame({'a': range(7), \n",
    "                'b': range(7, 0, -1),\n",
    "                'c': ['one', 'one', 'one', 'two', 'two', 'two', 'two'], \n",
    "                'd': [0, 1, 2, 0, 1, 2, 3]}\n",
    "              )\n",
    "df"
   ]
  },
  {
   "cell_type": "code",
   "execution_count": null,
   "metadata": {},
   "outputs": [],
   "source": [
    "df.set_index(['c','d'])"
   ]
  },
  {
   "cell_type": "code",
   "execution_count": null,
   "metadata": {
    "scrolled": true
   },
   "outputs": [],
   "source": [
    "pop.reset_index(name='population')"
   ]
  },
  {
   "cell_type": "markdown",
   "metadata": {},
   "source": [
    "## Indexing and Slicing a MultiIndex"
   ]
  },
  {
   "cell_type": "code",
   "execution_count": null,
   "metadata": {},
   "outputs": [],
   "source": [
    "index = [('California', 2000), ('California', 2010),\n",
    "        ('New York', 2000), ('New York', 2010),\n",
    "          ('Texas', 2000), ('Texas', 2010)]\n",
    "populations = [33871648, 37253956,\n",
    "              18976457, 19378102,\n",
    "               20851820, 25145561]\n",
    "pop = pd.Series(populations, index=pd.MultiIndex.from_tuples(index))\n",
    "pop"
   ]
  },
  {
   "cell_type": "code",
   "execution_count": null,
   "metadata": {},
   "outputs": [],
   "source": [
    "pop"
   ]
  },
  {
   "cell_type": "code",
   "execution_count": null,
   "metadata": {},
   "outputs": [],
   "source": [
    "pop['California', 2000]"
   ]
  },
  {
   "cell_type": "code",
   "execution_count": null,
   "metadata": {},
   "outputs": [],
   "source": [
    "pop['California']"
   ]
  },
  {
   "cell_type": "code",
   "execution_count": null,
   "metadata": {},
   "outputs": [],
   "source": [
    "pop.loc['California':'New York']"
   ]
  },
  {
   "cell_type": "markdown",
   "metadata": {},
   "source": [
    "### Partial slicing is available as well, as long as the `MultiIndex` is sorted"
   ]
  },
  {
   "cell_type": "code",
   "execution_count": null,
   "metadata": {},
   "outputs": [],
   "source": [
    "index = [('California', 2000), ('California', 2010),\n",
    "         ('Texas', 2000), ('Texas', 2010),\n",
    "        ('New York', 2000), ('New York', 2010)]\n",
    "populations = [33871648, 37253956,\n",
    "               20851820, 25145561,\n",
    "              18976457, 19378102]\n",
    "pop2 = pd.Series(populations, index=pd.MultiIndex.from_tuples(index))\n",
    "pop2"
   ]
  },
  {
   "cell_type": "code",
   "execution_count": null,
   "metadata": {},
   "outputs": [],
   "source": [
    "try:\n",
    "    pop2.loc['California':'New York']\n",
    "except KeyError as e:\n",
    "    print(type(e))\n",
    "    print(e)a"
   ]
  },
  {
   "cell_type": "markdown",
   "metadata": {},
   "source": [
    "### Pandas provides a number of convenience routines to perform this type of sorting; examples are the `sort_index()` and `sortlevel()` methods of the `DataFrame`."
   ]
  },
  {
   "cell_type": "code",
   "execution_count": null,
   "metadata": {},
   "outputs": [],
   "source": [
    "pop2.index"
   ]
  },
  {
   "cell_type": "code",
   "execution_count": null,
   "metadata": {},
   "outputs": [],
   "source": [
    "pop2.sort_index()['California':'New York']"
   ]
  },
  {
   "cell_type": "code",
   "execution_count": null,
   "metadata": {},
   "outputs": [],
   "source": [
    "pop2.sort_index()['California':'New York']"
   ]
  },
  {
   "cell_type": "code",
   "execution_count": null,
   "metadata": {},
   "outputs": [],
   "source": [
    "pop2[:,2000]"
   ]
  },
  {
   "cell_type": "code",
   "execution_count": null,
   "metadata": {},
   "outputs": [],
   "source": [
    "pop[['California', 'Texas']]"
   ]
  },
  {
   "cell_type": "code",
   "execution_count": null,
   "metadata": {},
   "outputs": [],
   "source": [
    "pop.unstack(level=0)\n",
    "pop.unstack(level=1)"
   ]
  },
  {
   "cell_type": "markdown",
   "metadata": {},
   "source": [
    "## Index setting and resetting"
   ]
  },
  {
   "cell_type": "code",
   "execution_count": null,
   "metadata": {},
   "outputs": [],
   "source": [
    "pop.index.names = ['state','year']\n",
    "pop"
   ]
  },
  {
   "cell_type": "code",
   "execution_count": null,
   "metadata": {},
   "outputs": [],
   "source": [
    "pop_flat = pop.reset_index(name='population')\n",
    "pop_flat"
   ]
  },
  {
   "cell_type": "markdown",
   "metadata": {},
   "source": [
    "### Often when working with data in the real world, the raw input data looks like this and it's useful to build a `MultiIndex` from the column values."
   ]
  },
  {
   "cell_type": "code",
   "execution_count": null,
   "metadata": {},
   "outputs": [],
   "source": [
    "pop_flat.set_index(['state', 'year'])"
   ]
  },
  {
   "cell_type": "markdown",
   "metadata": {},
   "source": [
    "## MultiIndex for columns"
   ]
  },
  {
   "cell_type": "code",
   "execution_count": null,
   "metadata": {},
   "outputs": [],
   "source": [
    "index = pd.MultiIndex.from_product([[2013, 2014], [1, 2]],\n",
    "                                   names=['year', 'visit'])\n",
    "columns = pd.MultiIndex.from_product([['Bob', 'Guido', 'Sue'], ['HR', 'Temp']],\n",
    "                                     names=['subject', 'type'])\n",
    "\n",
    "# mock some data\n",
    "data = np.round(np.random.randn(4, 6), 1)\n",
    "data[:, ::2] *= 10\n",
    "data += 37\n",
    "\n",
    "# create the DataFrame\n",
    "health_data = pd.DataFrame(data, index=index, columns=columns)\n",
    "health_data"
   ]
  },
  {
   "cell_type": "code",
   "execution_count": null,
   "metadata": {},
   "outputs": [],
   "source": [
    "health_data.iloc[0:2,3:5]"
   ]
  },
  {
   "cell_type": "code",
   "execution_count": null,
   "metadata": {
    "scrolled": true
   },
   "outputs": [],
   "source": [
    "health_data.loc[2013,['Guido','Sue']]"
   ]
  },
  {
   "cell_type": "code",
   "execution_count": null,
   "metadata": {},
   "outputs": [],
   "source": [
    "health_data.loc[:, ('Bob', 'HR')]"
   ]
  },
  {
   "cell_type": "markdown",
   "metadata": {},
   "source": [
    "[multiIndex](https://jakevdp.github.io/PythonDataScienceHandbook/03.05-hierarchical-indexing.html)"
   ]
  },
  {
   "cell_type": "markdown",
   "metadata": {},
   "source": [
    "### Using slicers"
   ]
  },
  {
   "cell_type": "code",
   "execution_count": null,
   "metadata": {
    "scrolled": true
   },
   "outputs": [],
   "source": [
    "health_data.loc[(slice(None),1), ('Bob', 'HR')]"
   ]
  },
  {
   "cell_type": "code",
   "execution_count": null,
   "metadata": {},
   "outputs": [],
   "source": [
    "idx = pd.IndexSlice"
   ]
  },
  {
   "cell_type": "code",
   "execution_count": null,
   "metadata": {},
   "outputs": [],
   "source": [
    "health_data.loc[idx[:,1], idx['Bob','HR']]"
   ]
  },
  {
   "cell_type": "code",
   "execution_count": null,
   "metadata": {},
   "outputs": [],
   "source": [
    "idx[:,1]"
   ]
  },
  {
   "cell_type": "markdown",
   "metadata": {},
   "source": [
    "## Data Aggregation"
   ]
  },
  {
   "cell_type": "code",
   "execution_count": null,
   "metadata": {},
   "outputs": [],
   "source": [
    "health_data"
   ]
  },
  {
   "cell_type": "code",
   "execution_count": null,
   "metadata": {},
   "outputs": [],
   "source": [
    "data_mean = health_data.mean(level='year')\n",
    "data_mean"
   ]
  },
  {
   "cell_type": "code",
   "execution_count": null,
   "metadata": {},
   "outputs": [],
   "source": [
    "health_data.mean(axis=1, level='type')"
   ]
  },
  {
   "cell_type": "markdown",
   "metadata": {},
   "source": [
    "### How to calculate the mean of each `type` for each `year`"
   ]
  },
  {
   "cell_type": "code",
   "execution_count": 364,
   "metadata": {},
   "outputs": [
    {
     "data": {
      "text/html": [
       "<div>\n",
       "<style scoped>\n",
       "    .dataframe tbody tr th:only-of-type {\n",
       "        vertical-align: middle;\n",
       "    }\n",
       "\n",
       "    .dataframe tbody tr th {\n",
       "        vertical-align: top;\n",
       "    }\n",
       "\n",
       "    .dataframe thead tr th {\n",
       "        text-align: left;\n",
       "    }\n",
       "\n",
       "    .dataframe thead tr:last-of-type th {\n",
       "        text-align: right;\n",
       "    }\n",
       "</style>\n",
       "<table border=\"1\" class=\"dataframe\">\n",
       "  <thead>\n",
       "    <tr>\n",
       "      <th>subject</th>\n",
       "      <th colspan=\"4\" halign=\"left\">Bob</th>\n",
       "      <th colspan=\"4\" halign=\"left\">Guido</th>\n",
       "      <th colspan=\"4\" halign=\"left\">Sue</th>\n",
       "    </tr>\n",
       "    <tr>\n",
       "      <th>type</th>\n",
       "      <th colspan=\"2\" halign=\"left\">HR</th>\n",
       "      <th colspan=\"2\" halign=\"left\">Temp</th>\n",
       "      <th colspan=\"2\" halign=\"left\">HR</th>\n",
       "      <th colspan=\"2\" halign=\"left\">Temp</th>\n",
       "      <th colspan=\"2\" halign=\"left\">HR</th>\n",
       "      <th colspan=\"2\" halign=\"left\">Temp</th>\n",
       "    </tr>\n",
       "    <tr>\n",
       "      <th>year</th>\n",
       "      <th>2013</th>\n",
       "      <th>2014</th>\n",
       "      <th>2013</th>\n",
       "      <th>2014</th>\n",
       "      <th>2013</th>\n",
       "      <th>2014</th>\n",
       "      <th>2013</th>\n",
       "      <th>2014</th>\n",
       "      <th>2013</th>\n",
       "      <th>2014</th>\n",
       "      <th>2013</th>\n",
       "      <th>2014</th>\n",
       "    </tr>\n",
       "    <tr>\n",
       "      <th>visit</th>\n",
       "      <th></th>\n",
       "      <th></th>\n",
       "      <th></th>\n",
       "      <th></th>\n",
       "      <th></th>\n",
       "      <th></th>\n",
       "      <th></th>\n",
       "      <th></th>\n",
       "      <th></th>\n",
       "      <th></th>\n",
       "      <th></th>\n",
       "      <th></th>\n",
       "    </tr>\n",
       "  </thead>\n",
       "  <tbody>\n",
       "    <tr>\n",
       "      <th>1</th>\n",
       "      <td>56.0</td>\n",
       "      <td>39.0</td>\n",
       "      <td>37.6</td>\n",
       "      <td>37.3</td>\n",
       "      <td>39.0</td>\n",
       "      <td>34.0</td>\n",
       "      <td>37.9</td>\n",
       "      <td>38.0</td>\n",
       "      <td>26.0</td>\n",
       "      <td>23.0</td>\n",
       "      <td>36.2</td>\n",
       "      <td>36.1</td>\n",
       "    </tr>\n",
       "    <tr>\n",
       "      <th>2</th>\n",
       "      <td>15.0</td>\n",
       "      <td>47.0</td>\n",
       "      <td>38.5</td>\n",
       "      <td>37.0</td>\n",
       "      <td>55.0</td>\n",
       "      <td>31.0</td>\n",
       "      <td>37.6</td>\n",
       "      <td>37.4</td>\n",
       "      <td>42.0</td>\n",
       "      <td>32.0</td>\n",
       "      <td>35.9</td>\n",
       "      <td>37.1</td>\n",
       "    </tr>\n",
       "  </tbody>\n",
       "</table>\n",
       "</div>"
      ],
      "text/plain": [
       "subject   Bob                   Guido                     Sue              \\\n",
       "type       HR        Temp          HR        Temp          HR        Temp   \n",
       "year     2013  2014  2013  2014  2013  2014  2013  2014  2013  2014  2013   \n",
       "visit                                                                       \n",
       "1        56.0  39.0  37.6  37.3  39.0  34.0  37.9  38.0  26.0  23.0  36.2   \n",
       "2        15.0  47.0  38.5  37.0  55.0  31.0  37.6  37.4  42.0  32.0  35.9   \n",
       "\n",
       "subject        \n",
       "type           \n",
       "year     2014  \n",
       "visit          \n",
       "1        36.1  \n",
       "2        37.1  "
      ]
     },
     "execution_count": 364,
     "metadata": {},
     "output_type": "execute_result"
    }
   ],
   "source": [
    "health_data.unstack('year')"
   ]
  },
  {
   "cell_type": "code",
   "execution_count": 365,
   "metadata": {},
   "outputs": [
    {
     "data": {
      "text/plain": [
       "year  type\n",
       "2013  HR      38.833333\n",
       "      Temp    37.283333\n",
       "2014  HR      34.333333\n",
       "      Temp    37.150000\n",
       "dtype: float64"
      ]
     },
     "execution_count": 365,
     "metadata": {},
     "output_type": "execute_result"
    }
   ],
   "source": [
    "health_data.stack().stack().groupby(['year', 'type']).mean()"
   ]
  },
  {
   "cell_type": "markdown",
   "metadata": {},
   "source": [
    "## Demo"
   ]
  },
  {
   "cell_type": "code",
   "execution_count": 329,
   "metadata": {
    "scrolled": true
   },
   "outputs": [
    {
     "data": {
      "text/html": [
       "<div>\n",
       "<style scoped>\n",
       "    .dataframe tbody tr th:only-of-type {\n",
       "        vertical-align: middle;\n",
       "    }\n",
       "\n",
       "    .dataframe tbody tr th {\n",
       "        vertical-align: top;\n",
       "    }\n",
       "\n",
       "    .dataframe thead th {\n",
       "        text-align: right;\n",
       "    }\n",
       "</style>\n",
       "<table border=\"1\" class=\"dataframe\">\n",
       "  <thead>\n",
       "    <tr style=\"text-align: right;\">\n",
       "      <th></th>\n",
       "      <th>Date</th>\n",
       "      <th>Store</th>\n",
       "      <th>Category</th>\n",
       "      <th>Subcategory</th>\n",
       "      <th>UPC EAN</th>\n",
       "      <th>Description</th>\n",
       "      <th>Dollars</th>\n",
       "      <th>Units</th>\n",
       "    </tr>\n",
       "  </thead>\n",
       "  <tbody>\n",
       "    <tr>\n",
       "      <th>49</th>\n",
       "      <td>2018-07-16</td>\n",
       "      <td>Store 3</td>\n",
       "      <td>Beer</td>\n",
       "      <td>Malts</td>\n",
       "      <td>71250000140</td>\n",
       "      <td>Colt 45 - Malt Liquor - 6 Pack</td>\n",
       "      <td>108.48</td>\n",
       "      <td>12</td>\n",
       "    </tr>\n",
       "    <tr>\n",
       "      <th>70</th>\n",
       "      <td>2018-07-13</td>\n",
       "      <td>Store 1</td>\n",
       "      <td>Wine</td>\n",
       "      <td>Red</td>\n",
       "      <td>492130008399</td>\n",
       "      <td>Yellow Tail - Merlot - 750 mL Bottle</td>\n",
       "      <td>38.60</td>\n",
       "      <td>5</td>\n",
       "    </tr>\n",
       "    <tr>\n",
       "      <th>25</th>\n",
       "      <td>2018-07-16</td>\n",
       "      <td>Store 1</td>\n",
       "      <td>Beer</td>\n",
       "      <td>Lagers</td>\n",
       "      <td>702770081011</td>\n",
       "      <td>Omission - Gluten Free Lager - 6 Pack</td>\n",
       "      <td>174.72</td>\n",
       "      <td>14</td>\n",
       "    </tr>\n",
       "    <tr>\n",
       "      <th>67</th>\n",
       "      <td>2018-07-14</td>\n",
       "      <td>Store 3</td>\n",
       "      <td>Wine</td>\n",
       "      <td>Red</td>\n",
       "      <td>89744402585</td>\n",
       "      <td>Trapiche - Malbec - 750 mL Bottle</td>\n",
       "      <td>20.15</td>\n",
       "      <td>5</td>\n",
       "    </tr>\n",
       "    <tr>\n",
       "      <th>118</th>\n",
       "      <td>2018-07-15</td>\n",
       "      <td>Store 3</td>\n",
       "      <td>Alcohol</td>\n",
       "      <td>Liquor</td>\n",
       "      <td>674545000001</td>\n",
       "      <td>Don Julio - Tequila Blanco - 750 mL Bottle</td>\n",
       "      <td>430.50</td>\n",
       "      <td>14</td>\n",
       "    </tr>\n",
       "  </tbody>\n",
       "</table>\n",
       "</div>"
      ],
      "text/plain": [
       "          Date    Store Category Subcategory       UPC EAN  \\\n",
       "49  2018-07-16  Store 3     Beer       Malts   71250000140   \n",
       "70  2018-07-13  Store 1     Wine         Red  492130008399   \n",
       "25  2018-07-16  Store 1     Beer      Lagers  702770081011   \n",
       "67  2018-07-14  Store 3     Wine         Red   89744402585   \n",
       "118 2018-07-15  Store 3  Alcohol      Liquor  674545000001   \n",
       "\n",
       "                                    Description  Dollars  Units  \n",
       "49               Colt 45 - Malt Liquor - 6 Pack   108.48     12  \n",
       "70         Yellow Tail - Merlot - 750 mL Bottle    38.60      5  \n",
       "25        Omission - Gluten Free Lager - 6 Pack   174.72     14  \n",
       "67            Trapiche - Malbec - 750 mL Bottle    20.15      5  \n",
       "118  Don Julio - Tequila Blanco - 750 mL Bottle   430.50     14  "
      ]
     },
     "execution_count": 329,
     "metadata": {},
     "output_type": "execute_result"
    }
   ],
   "source": [
    "df = pd.read_csv('data.csv', parse_dates=['Date'])\n",
    "df.sample(5)"
   ]
  },
  {
   "cell_type": "code",
   "execution_count": 330,
   "metadata": {},
   "outputs": [
    {
     "data": {
      "text/plain": [
       "Timestamp('2018-07-11 00:00:00')"
      ]
     },
     "execution_count": 330,
     "metadata": {},
     "output_type": "execute_result"
    }
   ],
   "source": [
    "df.Date[0]"
   ]
  },
  {
   "cell_type": "code",
   "execution_count": 331,
   "metadata": {},
   "outputs": [
    {
     "data": {
      "text/html": [
       "<div>\n",
       "<style scoped>\n",
       "    .dataframe tbody tr th:only-of-type {\n",
       "        vertical-align: middle;\n",
       "    }\n",
       "\n",
       "    .dataframe tbody tr th {\n",
       "        vertical-align: top;\n",
       "    }\n",
       "\n",
       "    .dataframe thead th {\n",
       "        text-align: right;\n",
       "    }\n",
       "</style>\n",
       "<table border=\"1\" class=\"dataframe\">\n",
       "  <thead>\n",
       "    <tr style=\"text-align: right;\">\n",
       "      <th></th>\n",
       "      <th></th>\n",
       "      <th></th>\n",
       "      <th></th>\n",
       "      <th></th>\n",
       "      <th>UPC EAN</th>\n",
       "      <th>Dollars</th>\n",
       "      <th>Units</th>\n",
       "    </tr>\n",
       "    <tr>\n",
       "      <th>Date</th>\n",
       "      <th>Store</th>\n",
       "      <th>Category</th>\n",
       "      <th>Subcategory</th>\n",
       "      <th>Description</th>\n",
       "      <th></th>\n",
       "      <th></th>\n",
       "      <th></th>\n",
       "    </tr>\n",
       "  </thead>\n",
       "  <tbody>\n",
       "    <tr>\n",
       "      <th rowspan=\"2\" valign=\"top\">2018-07-11</th>\n",
       "      <th>Store 3</th>\n",
       "      <th>Beer</th>\n",
       "      <th>Ales</th>\n",
       "      <th>Goose Island - Honkers Ale - 6 Pack</th>\n",
       "      <td>736920111112</td>\n",
       "      <td>35.68</td>\n",
       "      <td>4</td>\n",
       "    </tr>\n",
       "    <tr>\n",
       "      <th>Store 2</th>\n",
       "      <th>Beer</th>\n",
       "      <th>Ales</th>\n",
       "      <th>Goose Island - Honkers Ale - 6 Pack</th>\n",
       "      <td>736920111112</td>\n",
       "      <td>166.74</td>\n",
       "      <td>14</td>\n",
       "    </tr>\n",
       "    <tr>\n",
       "      <th rowspan=\"2\" valign=\"top\">2018-07-10</th>\n",
       "      <th>Store 3</th>\n",
       "      <th>Beer</th>\n",
       "      <th>Ales</th>\n",
       "      <th>Goose Island - Honkers Ale - 6 Pack</th>\n",
       "      <td>736920111112</td>\n",
       "      <td>67.36</td>\n",
       "      <td>8</td>\n",
       "    </tr>\n",
       "    <tr>\n",
       "      <th>Store 2</th>\n",
       "      <th>Beer</th>\n",
       "      <th>Ales</th>\n",
       "      <th>Goose Island - Honkers Ale - 6 Pack</th>\n",
       "      <td>736920111112</td>\n",
       "      <td>80.01</td>\n",
       "      <td>9</td>\n",
       "    </tr>\n",
       "    <tr>\n",
       "      <th>2018-07-12</th>\n",
       "      <th>Store 3</th>\n",
       "      <th>Beer</th>\n",
       "      <th>Ales</th>\n",
       "      <th>Goose Island - Honkers Ale - 6 Pack</th>\n",
       "      <td>736920111112</td>\n",
       "      <td>78.30</td>\n",
       "      <td>10</td>\n",
       "    </tr>\n",
       "  </tbody>\n",
       "</table>\n",
       "</div>"
      ],
      "text/plain": [
       "                                                                                  UPC EAN  \\\n",
       "Date       Store   Category Subcategory Description                                         \n",
       "2018-07-11 Store 3 Beer     Ales        Goose Island - Honkers Ale - 6 Pack  736920111112   \n",
       "           Store 2 Beer     Ales        Goose Island - Honkers Ale - 6 Pack  736920111112   \n",
       "2018-07-10 Store 3 Beer     Ales        Goose Island - Honkers Ale - 6 Pack  736920111112   \n",
       "           Store 2 Beer     Ales        Goose Island - Honkers Ale - 6 Pack  736920111112   \n",
       "2018-07-12 Store 3 Beer     Ales        Goose Island - Honkers Ale - 6 Pack  736920111112   \n",
       "\n",
       "                                                                             Dollars  \\\n",
       "Date       Store   Category Subcategory Description                                    \n",
       "2018-07-11 Store 3 Beer     Ales        Goose Island - Honkers Ale - 6 Pack    35.68   \n",
       "           Store 2 Beer     Ales        Goose Island - Honkers Ale - 6 Pack   166.74   \n",
       "2018-07-10 Store 3 Beer     Ales        Goose Island - Honkers Ale - 6 Pack    67.36   \n",
       "           Store 2 Beer     Ales        Goose Island - Honkers Ale - 6 Pack    80.01   \n",
       "2018-07-12 Store 3 Beer     Ales        Goose Island - Honkers Ale - 6 Pack    78.30   \n",
       "\n",
       "                                                                             Units  \n",
       "Date       Store   Category Subcategory Description                                 \n",
       "2018-07-11 Store 3 Beer     Ales        Goose Island - Honkers Ale - 6 Pack      4  \n",
       "           Store 2 Beer     Ales        Goose Island - Honkers Ale - 6 Pack     14  \n",
       "2018-07-10 Store 3 Beer     Ales        Goose Island - Honkers Ale - 6 Pack      8  \n",
       "           Store 2 Beer     Ales        Goose Island - Honkers Ale - 6 Pack      9  \n",
       "2018-07-12 Store 3 Beer     Ales        Goose Island - Honkers Ale - 6 Pack     10  "
      ]
     },
     "execution_count": 331,
     "metadata": {},
     "output_type": "execute_result"
    }
   ],
   "source": [
    "df.set_index(['Date', 'Store', 'Category', 'Subcategory', 'Description'], inplace=True)\n",
    "df.head(5)"
   ]
  },
  {
   "cell_type": "code",
   "execution_count": 332,
   "metadata": {},
   "outputs": [
    {
     "data": {
      "text/html": [
       "<div>\n",
       "<style scoped>\n",
       "    .dataframe tbody tr th:only-of-type {\n",
       "        vertical-align: middle;\n",
       "    }\n",
       "\n",
       "    .dataframe tbody tr th {\n",
       "        vertical-align: top;\n",
       "    }\n",
       "\n",
       "    .dataframe thead th {\n",
       "        text-align: right;\n",
       "    }\n",
       "</style>\n",
       "<table border=\"1\" class=\"dataframe\">\n",
       "  <thead>\n",
       "    <tr style=\"text-align: right;\">\n",
       "      <th></th>\n",
       "      <th></th>\n",
       "      <th></th>\n",
       "      <th></th>\n",
       "      <th></th>\n",
       "      <th></th>\n",
       "      <th>Dollars</th>\n",
       "      <th>Units</th>\n",
       "    </tr>\n",
       "    <tr>\n",
       "      <th>Date</th>\n",
       "      <th>Store</th>\n",
       "      <th>Category</th>\n",
       "      <th>Subcategory</th>\n",
       "      <th>Description</th>\n",
       "      <th>UPC EAN</th>\n",
       "      <th></th>\n",
       "      <th></th>\n",
       "    </tr>\n",
       "  </thead>\n",
       "  <tbody>\n",
       "    <tr>\n",
       "      <th rowspan=\"2\" valign=\"top\">2018-07-11</th>\n",
       "      <th>Store 3</th>\n",
       "      <th>Beer</th>\n",
       "      <th>Ales</th>\n",
       "      <th>Goose Island - Honkers Ale - 6 Pack</th>\n",
       "      <th>736920111112</th>\n",
       "      <td>35.68</td>\n",
       "      <td>4</td>\n",
       "    </tr>\n",
       "    <tr>\n",
       "      <th>Store 2</th>\n",
       "      <th>Beer</th>\n",
       "      <th>Ales</th>\n",
       "      <th>Goose Island - Honkers Ale - 6 Pack</th>\n",
       "      <th>736920111112</th>\n",
       "      <td>166.74</td>\n",
       "      <td>14</td>\n",
       "    </tr>\n",
       "    <tr>\n",
       "      <th rowspan=\"2\" valign=\"top\">2018-07-10</th>\n",
       "      <th>Store 3</th>\n",
       "      <th>Beer</th>\n",
       "      <th>Ales</th>\n",
       "      <th>Goose Island - Honkers Ale - 6 Pack</th>\n",
       "      <th>736920111112</th>\n",
       "      <td>67.36</td>\n",
       "      <td>8</td>\n",
       "    </tr>\n",
       "    <tr>\n",
       "      <th>Store 2</th>\n",
       "      <th>Beer</th>\n",
       "      <th>Ales</th>\n",
       "      <th>Goose Island - Honkers Ale - 6 Pack</th>\n",
       "      <th>736920111112</th>\n",
       "      <td>80.01</td>\n",
       "      <td>9</td>\n",
       "    </tr>\n",
       "    <tr>\n",
       "      <th>2018-07-12</th>\n",
       "      <th>Store 3</th>\n",
       "      <th>Beer</th>\n",
       "      <th>Ales</th>\n",
       "      <th>Goose Island - Honkers Ale - 6 Pack</th>\n",
       "      <th>736920111112</th>\n",
       "      <td>78.30</td>\n",
       "      <td>10</td>\n",
       "    </tr>\n",
       "  </tbody>\n",
       "</table>\n",
       "</div>"
      ],
      "text/plain": [
       "                                                                                          Dollars  \\\n",
       "Date       Store   Category Subcategory Description                         UPC EAN                 \n",
       "2018-07-11 Store 3 Beer     Ales        Goose Island - Honkers Ale - 6 Pack 736920111112    35.68   \n",
       "           Store 2 Beer     Ales        Goose Island - Honkers Ale - 6 Pack 736920111112   166.74   \n",
       "2018-07-10 Store 3 Beer     Ales        Goose Island - Honkers Ale - 6 Pack 736920111112    67.36   \n",
       "           Store 2 Beer     Ales        Goose Island - Honkers Ale - 6 Pack 736920111112    80.01   \n",
       "2018-07-12 Store 3 Beer     Ales        Goose Island - Honkers Ale - 6 Pack 736920111112    78.30   \n",
       "\n",
       "                                                                                          Units  \n",
       "Date       Store   Category Subcategory Description                         UPC EAN              \n",
       "2018-07-11 Store 3 Beer     Ales        Goose Island - Honkers Ale - 6 Pack 736920111112      4  \n",
       "           Store 2 Beer     Ales        Goose Island - Honkers Ale - 6 Pack 736920111112     14  \n",
       "2018-07-10 Store 3 Beer     Ales        Goose Island - Honkers Ale - 6 Pack 736920111112      8  \n",
       "           Store 2 Beer     Ales        Goose Island - Honkers Ale - 6 Pack 736920111112      9  \n",
       "2018-07-12 Store 3 Beer     Ales        Goose Island - Honkers Ale - 6 Pack 736920111112     10  "
      ]
     },
     "execution_count": 332,
     "metadata": {},
     "output_type": "execute_result"
    }
   ],
   "source": [
    "df.set_index('UPC EAN', append=True, inplace=True)\n",
    "df.head()"
   ]
  },
  {
   "cell_type": "markdown",
   "metadata": {},
   "source": [
    "That's almost right, but we'd actually like 'Description' to show up after 'UPC EAN'. "
   ]
  },
  {
   "cell_type": "code",
   "execution_count": 333,
   "metadata": {},
   "outputs": [
    {
     "data": {
      "text/html": [
       "<div>\n",
       "<style scoped>\n",
       "    .dataframe tbody tr th:only-of-type {\n",
       "        vertical-align: middle;\n",
       "    }\n",
       "\n",
       "    .dataframe tbody tr th {\n",
       "        vertical-align: top;\n",
       "    }\n",
       "\n",
       "    .dataframe thead th {\n",
       "        text-align: right;\n",
       "    }\n",
       "</style>\n",
       "<table border=\"1\" class=\"dataframe\">\n",
       "  <thead>\n",
       "    <tr style=\"text-align: right;\">\n",
       "      <th></th>\n",
       "      <th></th>\n",
       "      <th></th>\n",
       "      <th></th>\n",
       "      <th></th>\n",
       "      <th></th>\n",
       "      <th>Dollars</th>\n",
       "      <th>Units</th>\n",
       "    </tr>\n",
       "    <tr>\n",
       "      <th>Date</th>\n",
       "      <th>Store</th>\n",
       "      <th>Category</th>\n",
       "      <th>Subcategory</th>\n",
       "      <th>UPC EAN</th>\n",
       "      <th>Description</th>\n",
       "      <th></th>\n",
       "      <th></th>\n",
       "    </tr>\n",
       "  </thead>\n",
       "  <tbody>\n",
       "    <tr>\n",
       "      <th rowspan=\"2\" valign=\"top\">2018-07-11</th>\n",
       "      <th>Store 3</th>\n",
       "      <th>Beer</th>\n",
       "      <th>Ales</th>\n",
       "      <th>736920111112</th>\n",
       "      <th>Goose Island - Honkers Ale - 6 Pack</th>\n",
       "      <td>35.68</td>\n",
       "      <td>4</td>\n",
       "    </tr>\n",
       "    <tr>\n",
       "      <th>Store 2</th>\n",
       "      <th>Beer</th>\n",
       "      <th>Ales</th>\n",
       "      <th>736920111112</th>\n",
       "      <th>Goose Island - Honkers Ale - 6 Pack</th>\n",
       "      <td>166.74</td>\n",
       "      <td>14</td>\n",
       "    </tr>\n",
       "    <tr>\n",
       "      <th>2018-07-10</th>\n",
       "      <th>Store 3</th>\n",
       "      <th>Beer</th>\n",
       "      <th>Ales</th>\n",
       "      <th>736920111112</th>\n",
       "      <th>Goose Island - Honkers Ale - 6 Pack</th>\n",
       "      <td>67.36</td>\n",
       "      <td>8</td>\n",
       "    </tr>\n",
       "  </tbody>\n",
       "</table>\n",
       "</div>"
      ],
      "text/plain": [
       "                                                                                          Dollars  \\\n",
       "Date       Store   Category Subcategory UPC EAN      Description                                    \n",
       "2018-07-11 Store 3 Beer     Ales        736920111112 Goose Island - Honkers Ale - 6 Pack    35.68   \n",
       "           Store 2 Beer     Ales        736920111112 Goose Island - Honkers Ale - 6 Pack   166.74   \n",
       "2018-07-10 Store 3 Beer     Ales        736920111112 Goose Island - Honkers Ale - 6 Pack    67.36   \n",
       "\n",
       "                                                                                          Units  \n",
       "Date       Store   Category Subcategory UPC EAN      Description                                 \n",
       "2018-07-11 Store 3 Beer     Ales        736920111112 Goose Island - Honkers Ale - 6 Pack      4  \n",
       "           Store 2 Beer     Ales        736920111112 Goose Island - Honkers Ale - 6 Pack     14  \n",
       "2018-07-10 Store 3 Beer     Ales        736920111112 Goose Island - Honkers Ale - 6 Pack      8  "
      ]
     },
     "execution_count": 333,
     "metadata": {},
     "output_type": "execute_result"
    }
   ],
   "source": [
    "df.reorder_levels(order=['Date', 'Store', 'Category',\n",
    "                         'Subcategory', 'UPC EAN', 'Description']).head(3)"
   ]
  },
  {
   "cell_type": "code",
   "execution_count": 334,
   "metadata": {},
   "outputs": [
    {
     "data": {
      "text/html": [
       "<div>\n",
       "<style scoped>\n",
       "    .dataframe tbody tr th:only-of-type {\n",
       "        vertical-align: middle;\n",
       "    }\n",
       "\n",
       "    .dataframe tbody tr th {\n",
       "        vertical-align: top;\n",
       "    }\n",
       "\n",
       "    .dataframe thead th {\n",
       "        text-align: right;\n",
       "    }\n",
       "</style>\n",
       "<table border=\"1\" class=\"dataframe\">\n",
       "  <thead>\n",
       "    <tr style=\"text-align: right;\">\n",
       "      <th></th>\n",
       "      <th></th>\n",
       "      <th></th>\n",
       "      <th></th>\n",
       "      <th></th>\n",
       "      <th></th>\n",
       "      <th>Dollars</th>\n",
       "      <th>Units</th>\n",
       "    </tr>\n",
       "    <tr>\n",
       "      <th>Date</th>\n",
       "      <th>Store</th>\n",
       "      <th>Category</th>\n",
       "      <th>Subcategory</th>\n",
       "      <th>UPC EAN</th>\n",
       "      <th>Description</th>\n",
       "      <th></th>\n",
       "      <th></th>\n",
       "    </tr>\n",
       "  </thead>\n",
       "  <tbody>\n",
       "    <tr>\n",
       "      <th rowspan=\"2\" valign=\"top\">2018-07-11</th>\n",
       "      <th>Store 3</th>\n",
       "      <th>Beer</th>\n",
       "      <th>Ales</th>\n",
       "      <th>736920111112</th>\n",
       "      <th>Goose Island - Honkers Ale - 6 Pack</th>\n",
       "      <td>35.68</td>\n",
       "      <td>4</td>\n",
       "    </tr>\n",
       "    <tr>\n",
       "      <th>Store 2</th>\n",
       "      <th>Beer</th>\n",
       "      <th>Ales</th>\n",
       "      <th>736920111112</th>\n",
       "      <th>Goose Island - Honkers Ale - 6 Pack</th>\n",
       "      <td>166.74</td>\n",
       "      <td>14</td>\n",
       "    </tr>\n",
       "    <tr>\n",
       "      <th>2018-07-10</th>\n",
       "      <th>Store 3</th>\n",
       "      <th>Beer</th>\n",
       "      <th>Ales</th>\n",
       "      <th>736920111112</th>\n",
       "      <th>Goose Island - Honkers Ale - 6 Pack</th>\n",
       "      <td>67.36</td>\n",
       "      <td>8</td>\n",
       "    </tr>\n",
       "  </tbody>\n",
       "</table>\n",
       "</div>"
      ],
      "text/plain": [
       "                                                                                          Dollars  \\\n",
       "Date       Store   Category Subcategory UPC EAN      Description                                    \n",
       "2018-07-11 Store 3 Beer     Ales        736920111112 Goose Island - Honkers Ale - 6 Pack    35.68   \n",
       "           Store 2 Beer     Ales        736920111112 Goose Island - Honkers Ale - 6 Pack   166.74   \n",
       "2018-07-10 Store 3 Beer     Ales        736920111112 Goose Island - Honkers Ale - 6 Pack    67.36   \n",
       "\n",
       "                                                                                          Units  \n",
       "Date       Store   Category Subcategory UPC EAN      Description                                 \n",
       "2018-07-11 Store 3 Beer     Ales        736920111112 Goose Island - Honkers Ale - 6 Pack      4  \n",
       "           Store 2 Beer     Ales        736920111112 Goose Island - Honkers Ale - 6 Pack     14  \n",
       "2018-07-10 Store 3 Beer     Ales        736920111112 Goose Island - Honkers Ale - 6 Pack      8  "
      ]
     },
     "execution_count": 334,
     "metadata": {},
     "output_type": "execute_result"
    }
   ],
   "source": [
    "df.swaplevel('Description', 'UPC EAN').head(3)"
   ]
  },
  {
   "cell_type": "code",
   "execution_count": 335,
   "metadata": {},
   "outputs": [],
   "source": [
    "# A handy function to keep around for projects\n",
    "def add_constant_index_level(df: pd.DataFrame, value, level_name: str):\n",
    "    return pd.concat([df], keys=[value], names=[level_name])"
   ]
  },
  {
   "cell_type": "code",
   "execution_count": 336,
   "metadata": {},
   "outputs": [
    {
     "data": {
      "text/html": [
       "<div>\n",
       "<style scoped>\n",
       "    .dataframe tbody tr th:only-of-type {\n",
       "        vertical-align: middle;\n",
       "    }\n",
       "\n",
       "    .dataframe tbody tr th {\n",
       "        vertical-align: top;\n",
       "    }\n",
       "\n",
       "    .dataframe thead th {\n",
       "        text-align: right;\n",
       "    }\n",
       "</style>\n",
       "<table border=\"1\" class=\"dataframe\">\n",
       "  <thead>\n",
       "    <tr style=\"text-align: right;\">\n",
       "      <th></th>\n",
       "      <th></th>\n",
       "      <th></th>\n",
       "      <th></th>\n",
       "      <th></th>\n",
       "      <th></th>\n",
       "      <th></th>\n",
       "      <th>Dollars</th>\n",
       "      <th>Units</th>\n",
       "    </tr>\n",
       "    <tr>\n",
       "      <th>Date</th>\n",
       "      <th>Store</th>\n",
       "      <th>Department</th>\n",
       "      <th>Category</th>\n",
       "      <th>Subcategory</th>\n",
       "      <th>UPC EAN</th>\n",
       "      <th>Description</th>\n",
       "      <th></th>\n",
       "      <th></th>\n",
       "    </tr>\n",
       "  </thead>\n",
       "  <tbody>\n",
       "    <tr>\n",
       "      <th rowspan=\"2\" valign=\"top\">2018-07-11</th>\n",
       "      <th>Store 3</th>\n",
       "      <th>Booooze</th>\n",
       "      <th>Beer</th>\n",
       "      <th>Ales</th>\n",
       "      <th>736920111112</th>\n",
       "      <th>Goose Island - Honkers Ale - 6 Pack</th>\n",
       "      <td>35.68</td>\n",
       "      <td>4</td>\n",
       "    </tr>\n",
       "    <tr>\n",
       "      <th>Store 2</th>\n",
       "      <th>Booooze</th>\n",
       "      <th>Beer</th>\n",
       "      <th>Ales</th>\n",
       "      <th>736920111112</th>\n",
       "      <th>Goose Island - Honkers Ale - 6 Pack</th>\n",
       "      <td>166.74</td>\n",
       "      <td>14</td>\n",
       "    </tr>\n",
       "    <tr>\n",
       "      <th>2018-07-10</th>\n",
       "      <th>Store 3</th>\n",
       "      <th>Booooze</th>\n",
       "      <th>Beer</th>\n",
       "      <th>Ales</th>\n",
       "      <th>736920111112</th>\n",
       "      <th>Goose Island - Honkers Ale - 6 Pack</th>\n",
       "      <td>67.36</td>\n",
       "      <td>8</td>\n",
       "    </tr>\n",
       "  </tbody>\n",
       "</table>\n",
       "</div>"
      ],
      "text/plain": [
       "                                                                                                     Dollars  \\\n",
       "Date       Store   Department Category Subcategory UPC EAN      Description                                    \n",
       "2018-07-11 Store 3 Booooze    Beer     Ales        736920111112 Goose Island - Honkers Ale - 6 Pack    35.68   \n",
       "           Store 2 Booooze    Beer     Ales        736920111112 Goose Island - Honkers Ale - 6 Pack   166.74   \n",
       "2018-07-10 Store 3 Booooze    Beer     Ales        736920111112 Goose Island - Honkers Ale - 6 Pack    67.36   \n",
       "\n",
       "                                                                                                     Units  \n",
       "Date       Store   Department Category Subcategory UPC EAN      Description                                 \n",
       "2018-07-11 Store 3 Booooze    Beer     Ales        736920111112 Goose Island - Honkers Ale - 6 Pack      4  \n",
       "           Store 2 Booooze    Beer     Ales        736920111112 Goose Island - Honkers Ale - 6 Pack     14  \n",
       "2018-07-10 Store 3 Booooze    Beer     Ales        736920111112 Goose Island - Honkers Ale - 6 Pack      8  "
      ]
     },
     "execution_count": 336,
     "metadata": {},
     "output_type": "execute_result"
    }
   ],
   "source": [
    "df = add_constant_index_level(df, \"Booooze\", \"Department\")\n",
    "df = df.reorder_levels(order=['Date', 'Store', 'Department', 'Category', 'Subcategory', 'UPC EAN', 'Description'])\n",
    "df.head(3)"
   ]
  },
  {
   "cell_type": "code",
   "execution_count": 337,
   "metadata": {},
   "outputs": [
    {
     "data": {
      "text/plain": [
       "Index(['Ales', 'Lagers', 'Stouts', 'Malts', 'Red', 'White', 'Rose', 'Liqour',\n",
       "       'Liquor'],\n",
       "      dtype='object', name='Subcategory')"
      ]
     },
     "execution_count": 337,
     "metadata": {},
     "output_type": "execute_result"
    }
   ],
   "source": [
    "df.index.get_level_values('Subcategory').unique()"
   ]
  },
  {
   "cell_type": "code",
   "execution_count": 338,
   "metadata": {},
   "outputs": [],
   "source": [
    "df.sort_index(inplace=True)"
   ]
  },
  {
   "cell_type": "code",
   "execution_count": 339,
   "metadata": {},
   "outputs": [],
   "source": [
    "idx = pd.IndexSlice"
   ]
  },
  {
   "cell_type": "code",
   "execution_count": 340,
   "metadata": {},
   "outputs": [
    {
     "data": {
      "text/plain": [
       "array([False, False, False, False,  True, False, False, False, False,\n",
       "       False, False, False, False,  True, False, False, False, False,\n",
       "       False, False, False, False, False, False, False, False,  True,\n",
       "       False, False, False, False, False, False, False, False, False,\n",
       "        True, False, False, False, False, False, False, False, False,\n",
       "       False, False, False, False, False,  True, False, False, False,\n",
       "       False, False, False, False,  True, False, False, False, False,\n",
       "       False, False, False, False, False, False, False, False, False,\n",
       "       False, False, False, False, False, False, False, False, False,\n",
       "       False, False, False, False, False, False, False, False, False,\n",
       "       False, False, False, False, False, False, False, False,  True,\n",
       "       False, False, False, False, False, False,  True, False, False,\n",
       "       False, False, False, False, False, False, False, False, False,\n",
       "        True, False, False, False, False, False,  True, False, False,\n",
       "       False, False, False, False, False, False])"
      ]
     },
     "execution_count": 340,
     "metadata": {},
     "output_type": "execute_result"
    }
   ],
   "source": [
    "mask = df.index.get_level_values('Subcategory') == 'Liqour'\n",
    "mask"
   ]
  },
  {
   "cell_type": "code",
   "execution_count": 311,
   "metadata": {},
   "outputs": [
    {
     "data": {
      "text/plain": [
       "Date        Store    Department  Category  Subcategory  UPC EAN      Description                                \n",
       "2018-07-10  Store 2  Booooze     Alcohol   Liqour       80480280024  Grey Goose - Imported Vodka - 750 mL Bottle    231.30\n",
       "            Store 3  Booooze     Alcohol   Liqour       80480280024  Grey Goose - Imported Vodka - 750 mL Bottle    128.30\n",
       "2018-07-11  Store 2  Booooze     Alcohol   Liqour       80480280024  Grey Goose - Imported Vodka - 750 mL Bottle    248.80\n",
       "            Store 3  Booooze     Alcohol   Liqour       80480280024  Grey Goose - Imported Vodka - 750 mL Bottle    296.01\n",
       "2018-07-12  Store 2  Booooze     Alcohol   Liqour       80480280024  Grey Goose - Imported Vodka - 750 mL Bottle    279.36\n",
       "            Store 3  Booooze     Alcohol   Liqour       80480280024  Grey Goose - Imported Vodka - 750 mL Bottle    228.08\n",
       "2018-07-15  Store 2  Booooze     Alcohol   Liqour       80480280024  Grey Goose - Imported Vodka - 750 mL Bottle    121.20\n",
       "            Store 3  Booooze     Alcohol   Liqour       80480280024  Grey Goose - Imported Vodka - 750 mL Bottle    278.04\n",
       "2018-07-16  Store 2  Booooze     Alcohol   Liqour       80480280024  Grey Goose - Imported Vodka - 750 mL Bottle    221.04\n",
       "            Store 3  Booooze     Alcohol   Liqour       80480280024  Grey Goose - Imported Vodka - 750 mL Bottle    126.66\n",
       "Name: Dollars, dtype: float64"
      ]
     },
     "execution_count": 311,
     "metadata": {},
     "output_type": "execute_result"
    }
   ],
   "source": [
    "df.loc[mask,'Dollars']"
   ]
  },
  {
   "cell_type": "code",
   "execution_count": 315,
   "metadata": {},
   "outputs": [
    {
     "ename": "KeyError",
     "evalue": "'Liqour'",
     "output_type": "error",
     "traceback": [
      "Traceback \u001b[0;36m(most recent call last)\u001b[0m:\n",
      "  File \u001b[1;32m\"<ipython-input-315-2f5f16e18de4>\"\u001b[0m, line \u001b[1;32m1\u001b[0m, in \u001b[1;35m<module>\u001b[0m\n    df.loc(axis=0)[:,:,:,:,'Liqour',:,:]\n",
      "  File \u001b[1;32m\"/Users/hangjianli/.pyenv/versions/3.7.4/envs/stat131/lib/python3.7/site-packages/pandas/core/indexing.py\"\u001b[0m, line \u001b[1;32m1418\u001b[0m, in \u001b[1;35m__getitem__\u001b[0m\n    return self._getitem_tuple(key)\n",
      "  File \u001b[1;32m\"/Users/hangjianli/.pyenv/versions/3.7.4/envs/stat131/lib/python3.7/site-packages/pandas/core/indexing.py\"\u001b[0m, line \u001b[1;32m805\u001b[0m, in \u001b[1;35m_getitem_tuple\u001b[0m\n    return self._getitem_lowerdim(tup)\n",
      "  File \u001b[1;32m\"/Users/hangjianli/.pyenv/versions/3.7.4/envs/stat131/lib/python3.7/site-packages/pandas/core/indexing.py\"\u001b[0m, line \u001b[1;32m906\u001b[0m, in \u001b[1;35m_getitem_lowerdim\u001b[0m\n    return self._getitem_axis(tup, axis=axis)\n",
      "  File \u001b[1;32m\"/Users/hangjianli/.pyenv/versions/3.7.4/envs/stat131/lib/python3.7/site-packages/pandas/core/indexing.py\"\u001b[0m, line \u001b[1;32m1843\u001b[0m, in \u001b[1;35m_getitem_axis\u001b[0m\n    locs = labels.get_locs(key)\n",
      "  File \u001b[1;32m\"/Users/hangjianli/.pyenv/versions/3.7.4/envs/stat131/lib/python3.7/site-packages/pandas/core/indexes/multi.py\"\u001b[0m, line \u001b[1;32m3073\u001b[0m, in \u001b[1;35mget_locs\u001b[0m\n    self.get_loc_level(k, level=i, drop_level=False)[0]\n",
      "  File \u001b[1;32m\"/Users/hangjianli/.pyenv/versions/3.7.4/envs/stat131/lib/python3.7/site-packages/pandas/core/indexes/multi.py\"\u001b[0m, line \u001b[1;32m2856\u001b[0m, in \u001b[1;35mget_loc_level\u001b[0m\n    indexer = self._get_level_indexer(key, level=level)\n",
      "  File \u001b[1;32m\"/Users/hangjianli/.pyenv/versions/3.7.4/envs/stat131/lib/python3.7/site-packages/pandas/core/indexes/multi.py\"\u001b[0m, line \u001b[1;32m2939\u001b[0m, in \u001b[1;35m_get_level_indexer\u001b[0m\n    code = level_index.get_loc(key)\n",
      "  File \u001b[1;32m\"/Users/hangjianli/.pyenv/versions/3.7.4/envs/stat131/lib/python3.7/site-packages/pandas/core/indexes/base.py\"\u001b[0m, line \u001b[1;32m2899\u001b[0m, in \u001b[1;35mget_loc\u001b[0m\n    return self._engine.get_loc(self._maybe_cast_indexer(key))\n",
      "  File \u001b[1;32m\"pandas/_libs/index.pyx\"\u001b[0m, line \u001b[1;32m107\u001b[0m, in \u001b[1;35mpandas._libs.index.IndexEngine.get_loc\u001b[0m\n",
      "  File \u001b[1;32m\"pandas/_libs/index.pyx\"\u001b[0m, line \u001b[1;32m128\u001b[0m, in \u001b[1;35mpandas._libs.index.IndexEngine.get_loc\u001b[0m\n",
      "\u001b[0;36m  File \u001b[0;32m\"pandas/_libs/index_class_helper.pxi\"\u001b[0;36m, line \u001b[0;32m91\u001b[0;36m, in \u001b[0;35mpandas._libs.index.Int64Engine._check_type\u001b[0;36m\u001b[0m\n",
      "\u001b[0;31mKeyError\u001b[0m\u001b[0;31m:\u001b[0m 'Liqour'\n"
     ]
    }
   ],
   "source": [
    "df.loc(axis=0)[:,:,:,:,'Liqour',:,:]"
   ]
  },
  {
   "cell_type": "code",
   "execution_count": 352,
   "metadata": {},
   "outputs": [
    {
     "data": {
      "text/plain": [
       "Index(['Lagers', 'Red', 'Rose', 'Liquor', 'Ales', 'Stouts', 'White', 'Malts'], dtype='object', name='Subcategory')"
      ]
     },
     "execution_count": 352,
     "metadata": {},
     "output_type": "execute_result"
    }
   ],
   "source": [
    "# method one\n",
    "df.rename(index={'Liqour': 'Liquor'}).index.get_level_values('Subcategory').unique()"
   ]
  },
  {
   "cell_type": "code",
   "execution_count": 349,
   "metadata": {},
   "outputs": [],
   "source": [
    "#method 2\n",
    "df_temp = df.reset_index(level='Subcategory', drop=False)"
   ]
  },
  {
   "cell_type": "code",
   "execution_count": 350,
   "metadata": {},
   "outputs": [],
   "source": [
    "df_temp.loc[df_temp.Subcategory=='Liqour', ['Subcategory']] = 'Liquor'"
   ]
  },
  {
   "cell_type": "code",
   "execution_count": 351,
   "metadata": {},
   "outputs": [
    {
     "data": {
      "text/plain": [
       "Index(['Lagers', 'Red', 'Rose', 'Liquor', 'Ales', 'Stouts', 'White', 'Malts'], dtype='object', name='Subcategory')"
      ]
     },
     "execution_count": 351,
     "metadata": {},
     "output_type": "execute_result"
    }
   ],
   "source": [
    "df_temp.set_index('Subcategory', append=True, inplace=True)\n",
    "df_temp.index.get_level_values('Subcategory').unique()"
   ]
  },
  {
   "cell_type": "markdown",
   "metadata": {},
   "source": [
    "### Rename index levels"
   ]
  },
  {
   "cell_type": "code",
   "execution_count": 355,
   "metadata": {
    "scrolled": true
   },
   "outputs": [
    {
     "data": {
      "text/html": [
       "<div>\n",
       "<style scoped>\n",
       "    .dataframe tbody tr th:only-of-type {\n",
       "        vertical-align: middle;\n",
       "    }\n",
       "\n",
       "    .dataframe tbody tr th {\n",
       "        vertical-align: top;\n",
       "    }\n",
       "\n",
       "    .dataframe thead th {\n",
       "        text-align: right;\n",
       "    }\n",
       "</style>\n",
       "<table border=\"1\" class=\"dataframe\">\n",
       "  <thead>\n",
       "    <tr style=\"text-align: right;\">\n",
       "      <th></th>\n",
       "      <th></th>\n",
       "      <th></th>\n",
       "      <th></th>\n",
       "      <th></th>\n",
       "      <th></th>\n",
       "      <th></th>\n",
       "      <th>Dollars</th>\n",
       "      <th>Units</th>\n",
       "    </tr>\n",
       "    <tr>\n",
       "      <th>Date</th>\n",
       "      <th>Store</th>\n",
       "      <th>Department</th>\n",
       "      <th>Category</th>\n",
       "      <th>Subcategory</th>\n",
       "      <th>UPC EAN</th>\n",
       "      <th>Desc.</th>\n",
       "      <th></th>\n",
       "      <th></th>\n",
       "    </tr>\n",
       "  </thead>\n",
       "  <tbody>\n",
       "    <tr>\n",
       "      <th rowspan=\"3\" valign=\"top\">2018-07-10</th>\n",
       "      <th rowspan=\"3\" valign=\"top\">Store 1</th>\n",
       "      <th rowspan=\"3\" valign=\"top\">Booooze</th>\n",
       "      <th>Beer</th>\n",
       "      <th>Lagers</th>\n",
       "      <th>702770081011</th>\n",
       "      <th>Omission - Gluten Free Lager - 6 Pack</th>\n",
       "      <td>137.67</td>\n",
       "      <td>13</td>\n",
       "    </tr>\n",
       "    <tr>\n",
       "      <th rowspan=\"2\" valign=\"top\">Wine</th>\n",
       "      <th rowspan=\"2\" valign=\"top\">Red</th>\n",
       "      <th>89744402585</th>\n",
       "      <th>Trapiche - Malbec - 750 mL Bottle</th>\n",
       "      <td>56.88</td>\n",
       "      <td>8</td>\n",
       "    </tr>\n",
       "    <tr>\n",
       "      <th>492130008399</th>\n",
       "      <th>Yellow Tail - Merlot - 750 mL Bottle</th>\n",
       "      <td>46.30</td>\n",
       "      <td>10</td>\n",
       "    </tr>\n",
       "  </tbody>\n",
       "</table>\n",
       "</div>"
      ],
      "text/plain": [
       "                                                                                                       Dollars  \\\n",
       "Date       Store   Department Category Subcategory UPC EAN      Desc.                                            \n",
       "2018-07-10 Store 1 Booooze    Beer     Lagers      702770081011 Omission - Gluten Free Lager - 6 Pack   137.67   \n",
       "                              Wine     Red         89744402585  Trapiche - Malbec - 750 mL Bottle        56.88   \n",
       "                                                   492130008399 Yellow Tail - Merlot - 750 mL Bottle     46.30   \n",
       "\n",
       "                                                                                                       Units  \n",
       "Date       Store   Department Category Subcategory UPC EAN      Desc.                                         \n",
       "2018-07-10 Store 1 Booooze    Beer     Lagers      702770081011 Omission - Gluten Free Lager - 6 Pack     13  \n",
       "                              Wine     Red         89744402585  Trapiche - Malbec - 750 mL Bottle          8  \n",
       "                                                   492130008399 Yellow Tail - Merlot - 750 mL Bottle      10  "
      ]
     },
     "execution_count": 355,
     "metadata": {},
     "output_type": "execute_result"
    }
   ],
   "source": [
    "temp_df = df.copy()\n",
    "temp_df.index = df.index.set_names('Desc.', level='Description')\n",
    "temp_df.head(3)"
   ]
  },
  {
   "cell_type": "markdown",
   "metadata": {},
   "source": [
    "### [A great resource](https://github.com/ZaxR/pandas_multiindex_tutorial/blob/master/Pandas%20MultiIndex%20Tutorial.ipynb)"
   ]
  },
  {
   "cell_type": "code",
   "execution_count": 359,
   "metadata": {},
   "outputs": [
    {
     "data": {
      "text/html": [
       "<div>\n",
       "<style scoped>\n",
       "    .dataframe tbody tr th:only-of-type {\n",
       "        vertical-align: middle;\n",
       "    }\n",
       "\n",
       "    .dataframe tbody tr th {\n",
       "        vertical-align: top;\n",
       "    }\n",
       "\n",
       "    .dataframe thead th {\n",
       "        text-align: right;\n",
       "    }\n",
       "</style>\n",
       "<table border=\"1\" class=\"dataframe\">\n",
       "  <thead>\n",
       "    <tr style=\"text-align: right;\">\n",
       "      <th></th>\n",
       "      <th></th>\n",
       "      <th></th>\n",
       "      <th></th>\n",
       "      <th></th>\n",
       "      <th></th>\n",
       "      <th>Dollars</th>\n",
       "      <th>Units</th>\n",
       "    </tr>\n",
       "    <tr>\n",
       "      <th>Date</th>\n",
       "      <th>Store</th>\n",
       "      <th>Category</th>\n",
       "      <th>Subcategory</th>\n",
       "      <th>UPC EAN</th>\n",
       "      <th>Description</th>\n",
       "      <th></th>\n",
       "      <th></th>\n",
       "    </tr>\n",
       "  </thead>\n",
       "  <tbody>\n",
       "    <tr>\n",
       "      <th rowspan=\"2\" valign=\"top\">2018-07-11</th>\n",
       "      <th>Store 3</th>\n",
       "      <th>Beer</th>\n",
       "      <th>Ales</th>\n",
       "      <th>736920111112</th>\n",
       "      <th>Goose Island - Honkers Ale - 6 Pack</th>\n",
       "      <td>35.68</td>\n",
       "      <td>4</td>\n",
       "    </tr>\n",
       "    <tr>\n",
       "      <th>Store 2</th>\n",
       "      <th>Beer</th>\n",
       "      <th>Ales</th>\n",
       "      <th>736920111112</th>\n",
       "      <th>Goose Island - Honkers Ale - 6 Pack</th>\n",
       "      <td>166.74</td>\n",
       "      <td>14</td>\n",
       "    </tr>\n",
       "    <tr>\n",
       "      <th>2018-07-10</th>\n",
       "      <th>Store 3</th>\n",
       "      <th>Beer</th>\n",
       "      <th>Ales</th>\n",
       "      <th>736920111112</th>\n",
       "      <th>Goose Island - Honkers Ale - 6 Pack</th>\n",
       "      <td>67.36</td>\n",
       "      <td>8</td>\n",
       "    </tr>\n",
       "  </tbody>\n",
       "</table>\n",
       "</div>"
      ],
      "text/plain": [
       "                                                                                          Dollars  \\\n",
       "Date       Store   Category Subcategory UPC EAN      Description                                    \n",
       "2018-07-11 Store 3 Beer     Ales        736920111112 Goose Island - Honkers Ale - 6 Pack    35.68   \n",
       "           Store 2 Beer     Ales        736920111112 Goose Island - Honkers Ale - 6 Pack   166.74   \n",
       "2018-07-10 Store 3 Beer     Ales        736920111112 Goose Island - Honkers Ale - 6 Pack    67.36   \n",
       "\n",
       "                                                                                          Units  \n",
       "Date       Store   Category Subcategory UPC EAN      Description                                 \n",
       "2018-07-11 Store 3 Beer     Ales        736920111112 Goose Island - Honkers Ale - 6 Pack      4  \n",
       "           Store 2 Beer     Ales        736920111112 Goose Island - Honkers Ale - 6 Pack     14  \n",
       "2018-07-10 Store 3 Beer     Ales        736920111112 Goose Island - Honkers Ale - 6 Pack      8  "
      ]
     },
     "execution_count": 359,
     "metadata": {},
     "output_type": "execute_result"
    }
   ],
   "source": [
    "# We can set a MultiIndex while reading a csv by referencing columns to be used in the index by number\n",
    "pd.read_csv(\"data.csv\", index_col=[0, 1, 2, 3, 4, 5], \n",
    "            skipinitialspace=True, \n",
    "            parse_dates=['Date']).head(3)"
   ]
  },
  {
   "cell_type": "markdown",
   "metadata": {},
   "source": [
    "###  unstack(). This function \"pivots\" an index level to a new level of column labels whose inner-most level consists of the pivoted index labels."
   ]
  },
  {
   "cell_type": "code",
   "execution_count": 366,
   "metadata": {},
   "outputs": [
    {
     "data": {
      "text/html": [
       "<div>\n",
       "<style scoped>\n",
       "    .dataframe tbody tr th:only-of-type {\n",
       "        vertical-align: middle;\n",
       "    }\n",
       "\n",
       "    .dataframe tbody tr th {\n",
       "        vertical-align: top;\n",
       "    }\n",
       "\n",
       "    .dataframe thead tr th {\n",
       "        text-align: left;\n",
       "    }\n",
       "\n",
       "    .dataframe thead tr:last-of-type th {\n",
       "        text-align: right;\n",
       "    }\n",
       "</style>\n",
       "<table border=\"1\" class=\"dataframe\">\n",
       "  <thead>\n",
       "    <tr>\n",
       "      <th></th>\n",
       "      <th></th>\n",
       "      <th></th>\n",
       "      <th></th>\n",
       "      <th></th>\n",
       "      <th></th>\n",
       "      <th colspan=\"3\" halign=\"left\">Dollars</th>\n",
       "      <th colspan=\"3\" halign=\"left\">Units</th>\n",
       "    </tr>\n",
       "    <tr>\n",
       "      <th></th>\n",
       "      <th></th>\n",
       "      <th></th>\n",
       "      <th></th>\n",
       "      <th></th>\n",
       "      <th>Store</th>\n",
       "      <th>Store 1</th>\n",
       "      <th>Store 2</th>\n",
       "      <th>Store 3</th>\n",
       "      <th>Store 1</th>\n",
       "      <th>Store 2</th>\n",
       "      <th>Store 3</th>\n",
       "    </tr>\n",
       "    <tr>\n",
       "      <th>Date</th>\n",
       "      <th>Department</th>\n",
       "      <th>Category</th>\n",
       "      <th>Subcategory</th>\n",
       "      <th>UPC EAN</th>\n",
       "      <th>Description</th>\n",
       "      <th></th>\n",
       "      <th></th>\n",
       "      <th></th>\n",
       "      <th></th>\n",
       "      <th></th>\n",
       "      <th></th>\n",
       "    </tr>\n",
       "  </thead>\n",
       "  <tbody>\n",
       "    <tr>\n",
       "      <th rowspan=\"5\" valign=\"top\">2018-07-10</th>\n",
       "      <th rowspan=\"5\" valign=\"top\">Booooze</th>\n",
       "      <th rowspan=\"3\" valign=\"top\">Alcohol</th>\n",
       "      <th>Liqour</th>\n",
       "      <th>80480280024</th>\n",
       "      <th>Grey Goose - Imported Vodka - 750 mL Bottle</th>\n",
       "      <td>NaN</td>\n",
       "      <td>231.30</td>\n",
       "      <td>128.30</td>\n",
       "      <td>NaN</td>\n",
       "      <td>9.0</td>\n",
       "      <td>5.0</td>\n",
       "    </tr>\n",
       "    <tr>\n",
       "      <th rowspan=\"2\" valign=\"top\">Liquor</th>\n",
       "      <th>80432400630</th>\n",
       "      <th>Glenlivet - 12 Year Scotch Whisky - 750 mL Bottle</th>\n",
       "      <td>NaN</td>\n",
       "      <td>172.00</td>\n",
       "      <td>278.80</td>\n",
       "      <td>NaN</td>\n",
       "      <td>5.0</td>\n",
       "      <td>8.0</td>\n",
       "    </tr>\n",
       "    <tr>\n",
       "      <th>674545000001</th>\n",
       "      <th>Don Julio - Tequila Blanco - 750 mL Bottle</th>\n",
       "      <td>NaN</td>\n",
       "      <td>168.06</td>\n",
       "      <td>204.12</td>\n",
       "      <td>NaN</td>\n",
       "      <td>6.0</td>\n",
       "      <td>7.0</td>\n",
       "    </tr>\n",
       "    <tr>\n",
       "      <th rowspan=\"2\" valign=\"top\">Beer</th>\n",
       "      <th rowspan=\"2\" valign=\"top\">Ales</th>\n",
       "      <th>94922755711</th>\n",
       "      <th>Bowser Beer - Beefy Brown Ale - 6 Pack</th>\n",
       "      <td>NaN</td>\n",
       "      <td>81.76</td>\n",
       "      <td>62.48</td>\n",
       "      <td>NaN</td>\n",
       "      <td>8.0</td>\n",
       "      <td>8.0</td>\n",
       "    </tr>\n",
       "    <tr>\n",
       "      <th>702770082018</th>\n",
       "      <th>Omission Pale Ale - Gluten Free Pale Ale - 6 Pack</th>\n",
       "      <td>NaN</td>\n",
       "      <td>89.76</td>\n",
       "      <td>135.72</td>\n",
       "      <td>NaN</td>\n",
       "      <td>6.0</td>\n",
       "      <td>13.0</td>\n",
       "    </tr>\n",
       "    <tr>\n",
       "      <th>...</th>\n",
       "      <th>...</th>\n",
       "      <th>...</th>\n",
       "      <th>...</th>\n",
       "      <th>...</th>\n",
       "      <th>...</th>\n",
       "      <td>...</td>\n",
       "      <td>...</td>\n",
       "      <td>...</td>\n",
       "      <td>...</td>\n",
       "      <td>...</td>\n",
       "      <td>...</td>\n",
       "    </tr>\n",
       "    <tr>\n",
       "      <th rowspan=\"5\" valign=\"top\">2018-07-16</th>\n",
       "      <th rowspan=\"5\" valign=\"top\">Booooze</th>\n",
       "      <th rowspan=\"2\" valign=\"top\">Beer</th>\n",
       "      <th>Lagers</th>\n",
       "      <th>702770081011</th>\n",
       "      <th>Omission - Gluten Free Lager - 6 Pack</th>\n",
       "      <td>174.72</td>\n",
       "      <td>NaN</td>\n",
       "      <td>104.86</td>\n",
       "      <td>14.0</td>\n",
       "      <td>NaN</td>\n",
       "      <td>7.0</td>\n",
       "    </tr>\n",
       "    <tr>\n",
       "      <th>Malts</th>\n",
       "      <th>71250000140</th>\n",
       "      <th>Colt 45 - Malt Liquor - 6 Pack</th>\n",
       "      <td>NaN</td>\n",
       "      <td>47.55</td>\n",
       "      <td>108.48</td>\n",
       "      <td>NaN</td>\n",
       "      <td>5.0</td>\n",
       "      <td>12.0</td>\n",
       "    </tr>\n",
       "    <tr>\n",
       "      <th rowspan=\"3\" valign=\"top\">Wine</th>\n",
       "      <th rowspan=\"2\" valign=\"top\">Red</th>\n",
       "      <th>89744402585</th>\n",
       "      <th>Trapiche - Malbec - 750 mL Bottle</th>\n",
       "      <td>126.14</td>\n",
       "      <td>NaN</td>\n",
       "      <td>66.16</td>\n",
       "      <td>14.0</td>\n",
       "      <td>NaN</td>\n",
       "      <td>8.0</td>\n",
       "    </tr>\n",
       "    <tr>\n",
       "      <th>492130008399</th>\n",
       "      <th>Yellow Tail - Merlot - 750 mL Bottle</th>\n",
       "      <td>68.46</td>\n",
       "      <td>NaN</td>\n",
       "      <td>46.56</td>\n",
       "      <td>14.0</td>\n",
       "      <td>NaN</td>\n",
       "      <td>6.0</td>\n",
       "    </tr>\n",
       "    <tr>\n",
       "      <th>White</th>\n",
       "      <th>81248501095</th>\n",
       "      <th>Curious Beasts - Chardonnay - 750 mL Bottle</th>\n",
       "      <td>NaN</td>\n",
       "      <td>82.80</td>\n",
       "      <td>266.84</td>\n",
       "      <td>NaN</td>\n",
       "      <td>4.0</td>\n",
       "      <td>14.0</td>\n",
       "    </tr>\n",
       "  </tbody>\n",
       "</table>\n",
       "<p>66 rows × 6 columns</p>\n",
       "</div>"
      ],
      "text/plain": [
       "                                                                                                          Dollars  \\\n",
       "Store                                                                                                     Store 1   \n",
       "Date       Department Category Subcategory UPC EAN      Description                                                 \n",
       "2018-07-10 Booooze    Alcohol  Liqour      80480280024  Grey Goose - Imported Vodka - 750 mL Bottle           NaN   \n",
       "                               Liquor      80432400630  Glenlivet - 12 Year Scotch Whisky - 750 mL Bottle     NaN   \n",
       "                                           674545000001 Don Julio - Tequila Blanco - 750 mL Bottle            NaN   \n",
       "                      Beer     Ales        94922755711  Bowser Beer - Beefy Brown Ale - 6 Pack                NaN   \n",
       "                                           702770082018 Omission Pale Ale - Gluten Free Pale Ale - 6 Pack     NaN   \n",
       "...                                                                                                           ...   \n",
       "2018-07-16 Booooze    Beer     Lagers      702770081011 Omission - Gluten Free Lager - 6 Pack              174.72   \n",
       "                               Malts       71250000140  Colt 45 - Malt Liquor - 6 Pack                        NaN   \n",
       "                      Wine     Red         89744402585  Trapiche - Malbec - 750 mL Bottle                  126.14   \n",
       "                                           492130008399 Yellow Tail - Merlot - 750 mL Bottle                68.46   \n",
       "                               White       81248501095  Curious Beasts - Chardonnay - 750 mL Bottle           NaN   \n",
       "\n",
       "                                                                                                                   \\\n",
       "Store                                                                                                     Store 2   \n",
       "Date       Department Category Subcategory UPC EAN      Description                                                 \n",
       "2018-07-10 Booooze    Alcohol  Liqour      80480280024  Grey Goose - Imported Vodka - 750 mL Bottle        231.30   \n",
       "                               Liquor      80432400630  Glenlivet - 12 Year Scotch Whisky - 750 mL Bottle  172.00   \n",
       "                                           674545000001 Don Julio - Tequila Blanco - 750 mL Bottle         168.06   \n",
       "                      Beer     Ales        94922755711  Bowser Beer - Beefy Brown Ale - 6 Pack              81.76   \n",
       "                                           702770082018 Omission Pale Ale - Gluten Free Pale Ale - 6 Pack   89.76   \n",
       "...                                                                                                           ...   \n",
       "2018-07-16 Booooze    Beer     Lagers      702770081011 Omission - Gluten Free Lager - 6 Pack                 NaN   \n",
       "                               Malts       71250000140  Colt 45 - Malt Liquor - 6 Pack                      47.55   \n",
       "                      Wine     Red         89744402585  Trapiche - Malbec - 750 mL Bottle                     NaN   \n",
       "                                           492130008399 Yellow Tail - Merlot - 750 mL Bottle                  NaN   \n",
       "                               White       81248501095  Curious Beasts - Chardonnay - 750 mL Bottle         82.80   \n",
       "\n",
       "                                                                                                                   \\\n",
       "Store                                                                                                     Store 3   \n",
       "Date       Department Category Subcategory UPC EAN      Description                                                 \n",
       "2018-07-10 Booooze    Alcohol  Liqour      80480280024  Grey Goose - Imported Vodka - 750 mL Bottle        128.30   \n",
       "                               Liquor      80432400630  Glenlivet - 12 Year Scotch Whisky - 750 mL Bottle  278.80   \n",
       "                                           674545000001 Don Julio - Tequila Blanco - 750 mL Bottle         204.12   \n",
       "                      Beer     Ales        94922755711  Bowser Beer - Beefy Brown Ale - 6 Pack              62.48   \n",
       "                                           702770082018 Omission Pale Ale - Gluten Free Pale Ale - 6 Pack  135.72   \n",
       "...                                                                                                           ...   \n",
       "2018-07-16 Booooze    Beer     Lagers      702770081011 Omission - Gluten Free Lager - 6 Pack              104.86   \n",
       "                               Malts       71250000140  Colt 45 - Malt Liquor - 6 Pack                     108.48   \n",
       "                      Wine     Red         89744402585  Trapiche - Malbec - 750 mL Bottle                   66.16   \n",
       "                                           492130008399 Yellow Tail - Merlot - 750 mL Bottle                46.56   \n",
       "                               White       81248501095  Curious Beasts - Chardonnay - 750 mL Bottle        266.84   \n",
       "\n",
       "                                                                                                            Units  \\\n",
       "Store                                                                                                     Store 1   \n",
       "Date       Department Category Subcategory UPC EAN      Description                                                 \n",
       "2018-07-10 Booooze    Alcohol  Liqour      80480280024  Grey Goose - Imported Vodka - 750 mL Bottle           NaN   \n",
       "                               Liquor      80432400630  Glenlivet - 12 Year Scotch Whisky - 750 mL Bottle     NaN   \n",
       "                                           674545000001 Don Julio - Tequila Blanco - 750 mL Bottle            NaN   \n",
       "                      Beer     Ales        94922755711  Bowser Beer - Beefy Brown Ale - 6 Pack                NaN   \n",
       "                                           702770082018 Omission Pale Ale - Gluten Free Pale Ale - 6 Pack     NaN   \n",
       "...                                                                                                           ...   \n",
       "2018-07-16 Booooze    Beer     Lagers      702770081011 Omission - Gluten Free Lager - 6 Pack                14.0   \n",
       "                               Malts       71250000140  Colt 45 - Malt Liquor - 6 Pack                        NaN   \n",
       "                      Wine     Red         89744402585  Trapiche - Malbec - 750 mL Bottle                    14.0   \n",
       "                                           492130008399 Yellow Tail - Merlot - 750 mL Bottle                 14.0   \n",
       "                               White       81248501095  Curious Beasts - Chardonnay - 750 mL Bottle           NaN   \n",
       "\n",
       "                                                                                                                   \\\n",
       "Store                                                                                                     Store 2   \n",
       "Date       Department Category Subcategory UPC EAN      Description                                                 \n",
       "2018-07-10 Booooze    Alcohol  Liqour      80480280024  Grey Goose - Imported Vodka - 750 mL Bottle           9.0   \n",
       "                               Liquor      80432400630  Glenlivet - 12 Year Scotch Whisky - 750 mL Bottle     5.0   \n",
       "                                           674545000001 Don Julio - Tequila Blanco - 750 mL Bottle            6.0   \n",
       "                      Beer     Ales        94922755711  Bowser Beer - Beefy Brown Ale - 6 Pack                8.0   \n",
       "                                           702770082018 Omission Pale Ale - Gluten Free Pale Ale - 6 Pack     6.0   \n",
       "...                                                                                                           ...   \n",
       "2018-07-16 Booooze    Beer     Lagers      702770081011 Omission - Gluten Free Lager - 6 Pack                 NaN   \n",
       "                               Malts       71250000140  Colt 45 - Malt Liquor - 6 Pack                        5.0   \n",
       "                      Wine     Red         89744402585  Trapiche - Malbec - 750 mL Bottle                     NaN   \n",
       "                                           492130008399 Yellow Tail - Merlot - 750 mL Bottle                  NaN   \n",
       "                               White       81248501095  Curious Beasts - Chardonnay - 750 mL Bottle           4.0   \n",
       "\n",
       "                                                                                                                   \n",
       "Store                                                                                                     Store 3  \n",
       "Date       Department Category Subcategory UPC EAN      Description                                                \n",
       "2018-07-10 Booooze    Alcohol  Liqour      80480280024  Grey Goose - Imported Vodka - 750 mL Bottle           5.0  \n",
       "                               Liquor      80432400630  Glenlivet - 12 Year Scotch Whisky - 750 mL Bottle     8.0  \n",
       "                                           674545000001 Don Julio - Tequila Blanco - 750 mL Bottle            7.0  \n",
       "                      Beer     Ales        94922755711  Bowser Beer - Beefy Brown Ale - 6 Pack                8.0  \n",
       "                                           702770082018 Omission Pale Ale - Gluten Free Pale Ale - 6 Pack    13.0  \n",
       "...                                                                                                           ...  \n",
       "2018-07-16 Booooze    Beer     Lagers      702770081011 Omission - Gluten Free Lager - 6 Pack                 7.0  \n",
       "                               Malts       71250000140  Colt 45 - Malt Liquor - 6 Pack                       12.0  \n",
       "                      Wine     Red         89744402585  Trapiche - Malbec - 750 mL Bottle                     8.0  \n",
       "                                           492130008399 Yellow Tail - Merlot - 750 mL Bottle                  6.0  \n",
       "                               White       81248501095  Curious Beasts - Chardonnay - 750 mL Bottle          14.0  \n",
       "\n",
       "[66 rows x 6 columns]"
      ]
     },
     "execution_count": 366,
     "metadata": {},
     "output_type": "execute_result"
    }
   ],
   "source": [
    "multi_col_lvl_df = df.unstack('Store')\n",
    "multi_col_lvl_df"
   ]
  },
  {
   "cell_type": "code",
   "execution_count": 379,
   "metadata": {},
   "outputs": [
    {
     "data": {
      "text/html": [
       "<div>\n",
       "<style scoped>\n",
       "    .dataframe tbody tr th:only-of-type {\n",
       "        vertical-align: middle;\n",
       "    }\n",
       "\n",
       "    .dataframe tbody tr th {\n",
       "        vertical-align: top;\n",
       "    }\n",
       "\n",
       "    .dataframe thead tr th {\n",
       "        text-align: left;\n",
       "    }\n",
       "\n",
       "    .dataframe thead tr:last-of-type th {\n",
       "        text-align: right;\n",
       "    }\n",
       "</style>\n",
       "<table border=\"1\" class=\"dataframe\">\n",
       "  <thead>\n",
       "    <tr>\n",
       "      <th></th>\n",
       "      <th></th>\n",
       "      <th></th>\n",
       "      <th></th>\n",
       "      <th></th>\n",
       "      <th></th>\n",
       "      <th colspan=\"3\" halign=\"left\">Dollars</th>\n",
       "      <th colspan=\"3\" halign=\"left\">Units</th>\n",
       "    </tr>\n",
       "    <tr>\n",
       "      <th></th>\n",
       "      <th></th>\n",
       "      <th></th>\n",
       "      <th></th>\n",
       "      <th></th>\n",
       "      <th>Store</th>\n",
       "      <th>Store 1</th>\n",
       "      <th>Store 2</th>\n",
       "      <th>Store 3</th>\n",
       "      <th>Store 1</th>\n",
       "      <th>Store 2</th>\n",
       "      <th>Store 3</th>\n",
       "    </tr>\n",
       "    <tr>\n",
       "      <th>Date</th>\n",
       "      <th>Department</th>\n",
       "      <th>Category</th>\n",
       "      <th>Subcategory</th>\n",
       "      <th>UPC EAN</th>\n",
       "      <th>Description</th>\n",
       "      <th></th>\n",
       "      <th></th>\n",
       "      <th></th>\n",
       "      <th></th>\n",
       "      <th></th>\n",
       "      <th></th>\n",
       "    </tr>\n",
       "  </thead>\n",
       "  <tbody>\n",
       "    <tr>\n",
       "      <th rowspan=\"3\" valign=\"top\">2018-07-10</th>\n",
       "      <th rowspan=\"3\" valign=\"top\">Booooze</th>\n",
       "      <th rowspan=\"3\" valign=\"top\">Alcohol</th>\n",
       "      <th>Liqour</th>\n",
       "      <th>80480280024</th>\n",
       "      <th>Grey Goose - Imported Vodka - 750 mL Bottle</th>\n",
       "      <td>NaN</td>\n",
       "      <td>231.30</td>\n",
       "      <td>128.30</td>\n",
       "      <td>NaN</td>\n",
       "      <td>9.0</td>\n",
       "      <td>5.0</td>\n",
       "    </tr>\n",
       "    <tr>\n",
       "      <th rowspan=\"2\" valign=\"top\">Liquor</th>\n",
       "      <th>80432400630</th>\n",
       "      <th>Glenlivet - 12 Year Scotch Whisky - 750 mL Bottle</th>\n",
       "      <td>NaN</td>\n",
       "      <td>172.00</td>\n",
       "      <td>278.80</td>\n",
       "      <td>NaN</td>\n",
       "      <td>5.0</td>\n",
       "      <td>8.0</td>\n",
       "    </tr>\n",
       "    <tr>\n",
       "      <th>674545000001</th>\n",
       "      <th>Don Julio - Tequila Blanco - 750 mL Bottle</th>\n",
       "      <td>NaN</td>\n",
       "      <td>168.06</td>\n",
       "      <td>204.12</td>\n",
       "      <td>NaN</td>\n",
       "      <td>6.0</td>\n",
       "      <td>7.0</td>\n",
       "    </tr>\n",
       "  </tbody>\n",
       "</table>\n",
       "</div>"
      ],
      "text/plain": [
       "                                                                                                          Dollars  \\\n",
       "Store                                                                                                     Store 1   \n",
       "Date       Department Category Subcategory UPC EAN      Description                                                 \n",
       "2018-07-10 Booooze    Alcohol  Liqour      80480280024  Grey Goose - Imported Vodka - 750 mL Bottle           NaN   \n",
       "                               Liquor      80432400630  Glenlivet - 12 Year Scotch Whisky - 750 mL Bottle     NaN   \n",
       "                                           674545000001 Don Julio - Tequila Blanco - 750 mL Bottle            NaN   \n",
       "\n",
       "                                                                                                                   \\\n",
       "Store                                                                                                     Store 2   \n",
       "Date       Department Category Subcategory UPC EAN      Description                                                 \n",
       "2018-07-10 Booooze    Alcohol  Liqour      80480280024  Grey Goose - Imported Vodka - 750 mL Bottle        231.30   \n",
       "                               Liquor      80432400630  Glenlivet - 12 Year Scotch Whisky - 750 mL Bottle  172.00   \n",
       "                                           674545000001 Don Julio - Tequila Blanco - 750 mL Bottle         168.06   \n",
       "\n",
       "                                                                                                                   \\\n",
       "Store                                                                                                     Store 3   \n",
       "Date       Department Category Subcategory UPC EAN      Description                                                 \n",
       "2018-07-10 Booooze    Alcohol  Liqour      80480280024  Grey Goose - Imported Vodka - 750 mL Bottle        128.30   \n",
       "                               Liquor      80432400630  Glenlivet - 12 Year Scotch Whisky - 750 mL Bottle  278.80   \n",
       "                                           674545000001 Don Julio - Tequila Blanco - 750 mL Bottle         204.12   \n",
       "\n",
       "                                                                                                            Units  \\\n",
       "Store                                                                                                     Store 1   \n",
       "Date       Department Category Subcategory UPC EAN      Description                                                 \n",
       "2018-07-10 Booooze    Alcohol  Liqour      80480280024  Grey Goose - Imported Vodka - 750 mL Bottle           NaN   \n",
       "                               Liquor      80432400630  Glenlivet - 12 Year Scotch Whisky - 750 mL Bottle     NaN   \n",
       "                                           674545000001 Don Julio - Tequila Blanco - 750 mL Bottle            NaN   \n",
       "\n",
       "                                                                                                                   \\\n",
       "Store                                                                                                     Store 2   \n",
       "Date       Department Category Subcategory UPC EAN      Description                                                 \n",
       "2018-07-10 Booooze    Alcohol  Liqour      80480280024  Grey Goose - Imported Vodka - 750 mL Bottle           9.0   \n",
       "                               Liquor      80432400630  Glenlivet - 12 Year Scotch Whisky - 750 mL Bottle     5.0   \n",
       "                                           674545000001 Don Julio - Tequila Blanco - 750 mL Bottle            6.0   \n",
       "\n",
       "                                                                                                                   \n",
       "Store                                                                                                     Store 3  \n",
       "Date       Department Category Subcategory UPC EAN      Description                                                \n",
       "2018-07-10 Booooze    Alcohol  Liqour      80480280024  Grey Goose - Imported Vodka - 750 mL Bottle           5.0  \n",
       "                               Liquor      80432400630  Glenlivet - 12 Year Scotch Whisky - 750 mL Bottle     8.0  \n",
       "                                           674545000001 Don Julio - Tequila Blanco - 750 mL Bottle            7.0  "
      ]
     },
     "execution_count": 379,
     "metadata": {},
     "output_type": "execute_result"
    }
   ],
   "source": [
    "multi_col_lvl_df.to_csv('multi_col_lvl_output.csv')\n",
    "\n",
    "# Reading it back in requires the header parameter\n",
    "read_multi_df = pd.read_csv('multi_col_lvl_output.csv', header=[0, 1], index_col=[0, 1, 2, 3, 4, 5],\n",
    "                            skipinitialspace=True, parse_dates=[0]).head(3)\n",
    "\n",
    "read_multi_df"
   ]
  },
  {
   "cell_type": "code",
   "execution_count": 380,
   "metadata": {},
   "outputs": [
    {
     "data": {
      "text/plain": [
       "['Date: datetime64[ns]',\n",
       " 'Department: object',\n",
       " 'Category: object',\n",
       " 'Subcategory: object',\n",
       " 'UPC EAN: int64',\n",
       " 'Description: object']"
      ]
     },
     "execution_count": 380,
     "metadata": {},
     "output_type": "execute_result"
    }
   ],
   "source": [
    "# A function to check our index level dtypes to aid this example\n",
    "def index_level_dtypes(df):\n",
    "    return [f\"{n}: {df.index.get_level_values(n).dtype}\"\n",
    "            for n in (df.index.names)]\n",
    "\n",
    "index_level_dtypes(read_multi_df)"
   ]
  },
  {
   "cell_type": "code",
   "execution_count": 381,
   "metadata": {},
   "outputs": [
    {
     "name": "stdout",
     "output_type": "stream",
     "text": [
      "<class 'pandas.core.frame.DataFrame'>\n",
      "MultiIndex: 3 entries, (2018-07-10 00:00:00, Booooze, Alcohol, Liqour, 80480280024, Grey Goose - Imported Vodka - 750 mL Bottle) to (2018-07-10 00:00:00, Booooze, Alcohol, Liquor, 674545000001, Don Julio - Tequila Blanco - 750 mL Bottle)\n",
      "Data columns (total 6 columns):\n",
      "(Dollars, Store 1)    0 non-null float64\n",
      "(Dollars, Store 2)    3 non-null float64\n",
      "(Dollars, Store 3)    3 non-null float64\n",
      "(Units, Store 1)      0 non-null float64\n",
      "(Units, Store 2)      3 non-null float64\n",
      "(Units, Store 3)      3 non-null float64\n",
      "dtypes: float64(6)\n",
      "memory usage: 875.0+ bytes\n"
     ]
    }
   ],
   "source": [
    "read_multi_df.info()"
   ]
  },
  {
   "cell_type": "code",
   "execution_count": 382,
   "metadata": {},
   "outputs": [
    {
     "data": {
      "text/html": [
       "<div>\n",
       "<style scoped>\n",
       "    .dataframe tbody tr th:only-of-type {\n",
       "        vertical-align: middle;\n",
       "    }\n",
       "\n",
       "    .dataframe tbody tr th {\n",
       "        vertical-align: top;\n",
       "    }\n",
       "\n",
       "    .dataframe thead th {\n",
       "        text-align: right;\n",
       "    }\n",
       "</style>\n",
       "<table border=\"1\" class=\"dataframe\">\n",
       "  <thead>\n",
       "    <tr style=\"text-align: right;\">\n",
       "      <th></th>\n",
       "      <th></th>\n",
       "      <th></th>\n",
       "      <th></th>\n",
       "      <th></th>\n",
       "      <th>Store</th>\n",
       "      <th>Store 1</th>\n",
       "      <th>Store 2</th>\n",
       "      <th>Store 3</th>\n",
       "    </tr>\n",
       "    <tr>\n",
       "      <th>Date</th>\n",
       "      <th>Department</th>\n",
       "      <th>Category</th>\n",
       "      <th>Subcategory</th>\n",
       "      <th>UPC EAN</th>\n",
       "      <th>Description</th>\n",
       "      <th></th>\n",
       "      <th></th>\n",
       "      <th></th>\n",
       "    </tr>\n",
       "  </thead>\n",
       "  <tbody>\n",
       "    <tr>\n",
       "      <th>2018-07-10</th>\n",
       "      <th>Booooze</th>\n",
       "      <th>Alcohol</th>\n",
       "      <th>Liquor</th>\n",
       "      <th>80432400630</th>\n",
       "      <th>Glenlivet - 12 Year Scotch Whisky - 750 mL Bottle</th>\n",
       "      <td>NaN</td>\n",
       "      <td>34.40</td>\n",
       "      <td>34.85</td>\n",
       "    </tr>\n",
       "    <tr>\n",
       "      <th>2018-07-13</th>\n",
       "      <th>Booooze</th>\n",
       "      <th>Wine</th>\n",
       "      <th>Rose</th>\n",
       "      <th>85000024218</th>\n",
       "      <th>Dark Horse - S. Blanc Rose - 750 mL Bottle</th>\n",
       "      <td>13.16</td>\n",
       "      <td>14.23</td>\n",
       "      <td>NaN</td>\n",
       "    </tr>\n",
       "    <tr>\n",
       "      <th>2018-07-10</th>\n",
       "      <th>Booooze</th>\n",
       "      <th>Beer</th>\n",
       "      <th>Stouts</th>\n",
       "      <th>83783575217</th>\n",
       "      <th>Sierra Nevada Brewing Co. - Stout - 6 Pack</th>\n",
       "      <td>NaN</td>\n",
       "      <td>11.20</td>\n",
       "      <td>11.99</td>\n",
       "    </tr>\n",
       "    <tr>\n",
       "      <th>2018-07-11</th>\n",
       "      <th>Booooze</th>\n",
       "      <th>Wine</th>\n",
       "      <th>White</th>\n",
       "      <th>81248501095</th>\n",
       "      <th>Curious Beasts - Chardonnay - 750 mL Bottle</th>\n",
       "      <td>NaN</td>\n",
       "      <td>21.56</td>\n",
       "      <td>19.04</td>\n",
       "    </tr>\n",
       "    <tr>\n",
       "      <th>2018-07-16</th>\n",
       "      <th>Booooze</th>\n",
       "      <th>Wine</th>\n",
       "      <th>Red</th>\n",
       "      <th>492130008399</th>\n",
       "      <th>Yellow Tail - Merlot - 750 mL Bottle</th>\n",
       "      <td>4.89</td>\n",
       "      <td>NaN</td>\n",
       "      <td>7.76</td>\n",
       "    </tr>\n",
       "    <tr>\n",
       "      <th>2018-07-14</th>\n",
       "      <th>Booooze</th>\n",
       "      <th>Beer</th>\n",
       "      <th>Lagers</th>\n",
       "      <th>702770081011</th>\n",
       "      <th>Omission - Gluten Free Lager - 6 Pack</th>\n",
       "      <td>10.63</td>\n",
       "      <td>NaN</td>\n",
       "      <td>10.72</td>\n",
       "    </tr>\n",
       "    <tr>\n",
       "      <th>2018-07-15</th>\n",
       "      <th>Booooze</th>\n",
       "      <th>Beer</th>\n",
       "      <th>Ales</th>\n",
       "      <th>702770082018</th>\n",
       "      <th>Omission Pale Ale - Gluten Free Pale Ale - 6 Pack</th>\n",
       "      <td>NaN</td>\n",
       "      <td>13.35</td>\n",
       "      <td>13.34</td>\n",
       "    </tr>\n",
       "    <tr>\n",
       "      <th>2018-07-10</th>\n",
       "      <th>Booooze</th>\n",
       "      <th>Wine</th>\n",
       "      <th>Red</th>\n",
       "      <th>89744402585</th>\n",
       "      <th>Trapiche - Malbec - 750 mL Bottle</th>\n",
       "      <td>7.11</td>\n",
       "      <td>NaN</td>\n",
       "      <td>6.30</td>\n",
       "    </tr>\n",
       "    <tr>\n",
       "      <th>2018-07-15</th>\n",
       "      <th>Booooze</th>\n",
       "      <th>Alcohol</th>\n",
       "      <th>Liqour</th>\n",
       "      <th>80480280024</th>\n",
       "      <th>Grey Goose - Imported Vodka - 750 mL Bottle</th>\n",
       "      <td>NaN</td>\n",
       "      <td>24.24</td>\n",
       "      <td>23.17</td>\n",
       "    </tr>\n",
       "    <tr>\n",
       "      <th>2018-07-14</th>\n",
       "      <th>Booooze</th>\n",
       "      <th>Wine</th>\n",
       "      <th>Red</th>\n",
       "      <th>492130008399</th>\n",
       "      <th>Yellow Tail - Merlot - 750 mL Bottle</th>\n",
       "      <td>5.35</td>\n",
       "      <td>NaN</td>\n",
       "      <td>7.60</td>\n",
       "    </tr>\n",
       "  </tbody>\n",
       "</table>\n",
       "</div>"
      ],
      "text/plain": [
       "Store                                                                                                      Store 1  \\\n",
       "Date       Department Category Subcategory UPC EAN      Description                                                  \n",
       "2018-07-10 Booooze    Alcohol  Liquor      80432400630  Glenlivet - 12 Year Scotch Whisky - 750 mL Bottle      NaN   \n",
       "2018-07-13 Booooze    Wine     Rose        85000024218  Dark Horse - S. Blanc Rose - 750 mL Bottle           13.16   \n",
       "2018-07-10 Booooze    Beer     Stouts      83783575217  Sierra Nevada Brewing Co. - Stout - 6 Pack             NaN   \n",
       "2018-07-11 Booooze    Wine     White       81248501095  Curious Beasts - Chardonnay - 750 mL Bottle            NaN   \n",
       "2018-07-16 Booooze    Wine     Red         492130008399 Yellow Tail - Merlot - 750 mL Bottle                  4.89   \n",
       "2018-07-14 Booooze    Beer     Lagers      702770081011 Omission - Gluten Free Lager - 6 Pack                10.63   \n",
       "2018-07-15 Booooze    Beer     Ales        702770082018 Omission Pale Ale - Gluten Free Pale Ale - 6 Pack      NaN   \n",
       "2018-07-10 Booooze    Wine     Red         89744402585  Trapiche - Malbec - 750 mL Bottle                     7.11   \n",
       "2018-07-15 Booooze    Alcohol  Liqour      80480280024  Grey Goose - Imported Vodka - 750 mL Bottle            NaN   \n",
       "2018-07-14 Booooze    Wine     Red         492130008399 Yellow Tail - Merlot - 750 mL Bottle                  5.35   \n",
       "\n",
       "Store                                                                                                      Store 2  \\\n",
       "Date       Department Category Subcategory UPC EAN      Description                                                  \n",
       "2018-07-10 Booooze    Alcohol  Liquor      80432400630  Glenlivet - 12 Year Scotch Whisky - 750 mL Bottle    34.40   \n",
       "2018-07-13 Booooze    Wine     Rose        85000024218  Dark Horse - S. Blanc Rose - 750 mL Bottle           14.23   \n",
       "2018-07-10 Booooze    Beer     Stouts      83783575217  Sierra Nevada Brewing Co. - Stout - 6 Pack           11.20   \n",
       "2018-07-11 Booooze    Wine     White       81248501095  Curious Beasts - Chardonnay - 750 mL Bottle          21.56   \n",
       "2018-07-16 Booooze    Wine     Red         492130008399 Yellow Tail - Merlot - 750 mL Bottle                   NaN   \n",
       "2018-07-14 Booooze    Beer     Lagers      702770081011 Omission - Gluten Free Lager - 6 Pack                  NaN   \n",
       "2018-07-15 Booooze    Beer     Ales        702770082018 Omission Pale Ale - Gluten Free Pale Ale - 6 Pack    13.35   \n",
       "2018-07-10 Booooze    Wine     Red         89744402585  Trapiche - Malbec - 750 mL Bottle                      NaN   \n",
       "2018-07-15 Booooze    Alcohol  Liqour      80480280024  Grey Goose - Imported Vodka - 750 mL Bottle          24.24   \n",
       "2018-07-14 Booooze    Wine     Red         492130008399 Yellow Tail - Merlot - 750 mL Bottle                   NaN   \n",
       "\n",
       "Store                                                                                                      Store 3  \n",
       "Date       Department Category Subcategory UPC EAN      Description                                                 \n",
       "2018-07-10 Booooze    Alcohol  Liquor      80432400630  Glenlivet - 12 Year Scotch Whisky - 750 mL Bottle    34.85  \n",
       "2018-07-13 Booooze    Wine     Rose        85000024218  Dark Horse - S. Blanc Rose - 750 mL Bottle             NaN  \n",
       "2018-07-10 Booooze    Beer     Stouts      83783575217  Sierra Nevada Brewing Co. - Stout - 6 Pack           11.99  \n",
       "2018-07-11 Booooze    Wine     White       81248501095  Curious Beasts - Chardonnay - 750 mL Bottle          19.04  \n",
       "2018-07-16 Booooze    Wine     Red         492130008399 Yellow Tail - Merlot - 750 mL Bottle                  7.76  \n",
       "2018-07-14 Booooze    Beer     Lagers      702770081011 Omission - Gluten Free Lager - 6 Pack                10.72  \n",
       "2018-07-15 Booooze    Beer     Ales        702770082018 Omission Pale Ale - Gluten Free Pale Ale - 6 Pack    13.34  \n",
       "2018-07-10 Booooze    Wine     Red         89744402585  Trapiche - Malbec - 750 mL Bottle                     6.30  \n",
       "2018-07-15 Booooze    Alcohol  Liqour      80480280024  Grey Goose - Imported Vodka - 750 mL Bottle          23.17  \n",
       "2018-07-14 Booooze    Wine     Red         492130008399 Yellow Tail - Merlot - 750 mL Bottle                  7.60  "
      ]
     },
     "execution_count": 382,
     "metadata": {},
     "output_type": "execute_result"
    }
   ],
   "source": [
    "dollars_per_unit = multi_col_lvl_df['Dollars'] / multi_col_lvl_df['Units']\n",
    "dollars_per_unit.sample(10)"
   ]
  },
  {
   "cell_type": "code",
   "execution_count": 383,
   "metadata": {},
   "outputs": [
    {
     "data": {
      "text/plain": [
       "Index(['Store 1', 'Store 2', 'Store 3'], dtype='object', name='Store')"
      ]
     },
     "execution_count": 383,
     "metadata": {},
     "output_type": "execute_result"
    }
   ],
   "source": [
    "dollars_per_unit.columns"
   ]
  },
  {
   "cell_type": "code",
   "execution_count": 384,
   "metadata": {},
   "outputs": [
    {
     "data": {
      "text/html": [
       "<div>\n",
       "<style scoped>\n",
       "    .dataframe tbody tr th:only-of-type {\n",
       "        vertical-align: middle;\n",
       "    }\n",
       "\n",
       "    .dataframe tbody tr th {\n",
       "        vertical-align: top;\n",
       "    }\n",
       "\n",
       "    .dataframe thead tr th {\n",
       "        text-align: left;\n",
       "    }\n",
       "\n",
       "    .dataframe thead tr:last-of-type th {\n",
       "        text-align: right;\n",
       "    }\n",
       "</style>\n",
       "<table border=\"1\" class=\"dataframe\">\n",
       "  <thead>\n",
       "    <tr>\n",
       "      <th></th>\n",
       "      <th></th>\n",
       "      <th></th>\n",
       "      <th></th>\n",
       "      <th></th>\n",
       "      <th></th>\n",
       "      <th colspan=\"3\" halign=\"left\">Dollars</th>\n",
       "      <th colspan=\"3\" halign=\"left\">Units</th>\n",
       "      <th colspan=\"3\" halign=\"left\">Dollars per Unit</th>\n",
       "    </tr>\n",
       "    <tr>\n",
       "      <th></th>\n",
       "      <th></th>\n",
       "      <th></th>\n",
       "      <th></th>\n",
       "      <th></th>\n",
       "      <th>Store</th>\n",
       "      <th>Store 1</th>\n",
       "      <th>Store 2</th>\n",
       "      <th>Store 3</th>\n",
       "      <th>Store 1</th>\n",
       "      <th>Store 2</th>\n",
       "      <th>Store 3</th>\n",
       "      <th>Store 1</th>\n",
       "      <th>Store 2</th>\n",
       "      <th>Store 3</th>\n",
       "    </tr>\n",
       "    <tr>\n",
       "      <th>Date</th>\n",
       "      <th>Department</th>\n",
       "      <th>Category</th>\n",
       "      <th>Subcategory</th>\n",
       "      <th>UPC EAN</th>\n",
       "      <th>Description</th>\n",
       "      <th></th>\n",
       "      <th></th>\n",
       "      <th></th>\n",
       "      <th></th>\n",
       "      <th></th>\n",
       "      <th></th>\n",
       "      <th></th>\n",
       "      <th></th>\n",
       "      <th></th>\n",
       "    </tr>\n",
       "  </thead>\n",
       "  <tbody>\n",
       "    <tr>\n",
       "      <th rowspan=\"3\" valign=\"top\">2018-07-10</th>\n",
       "      <th rowspan=\"3\" valign=\"top\">Booooze</th>\n",
       "      <th rowspan=\"3\" valign=\"top\">Alcohol</th>\n",
       "      <th>Liqour</th>\n",
       "      <th>80480280024</th>\n",
       "      <th>Grey Goose - Imported Vodka - 750 mL Bottle</th>\n",
       "      <td>NaN</td>\n",
       "      <td>231.30</td>\n",
       "      <td>128.30</td>\n",
       "      <td>NaN</td>\n",
       "      <td>9.0</td>\n",
       "      <td>5.0</td>\n",
       "      <td>NaN</td>\n",
       "      <td>25.70</td>\n",
       "      <td>25.66</td>\n",
       "    </tr>\n",
       "    <tr>\n",
       "      <th rowspan=\"2\" valign=\"top\">Liquor</th>\n",
       "      <th>80432400630</th>\n",
       "      <th>Glenlivet - 12 Year Scotch Whisky - 750 mL Bottle</th>\n",
       "      <td>NaN</td>\n",
       "      <td>172.00</td>\n",
       "      <td>278.80</td>\n",
       "      <td>NaN</td>\n",
       "      <td>5.0</td>\n",
       "      <td>8.0</td>\n",
       "      <td>NaN</td>\n",
       "      <td>34.40</td>\n",
       "      <td>34.85</td>\n",
       "    </tr>\n",
       "    <tr>\n",
       "      <th>674545000001</th>\n",
       "      <th>Don Julio - Tequila Blanco - 750 mL Bottle</th>\n",
       "      <td>NaN</td>\n",
       "      <td>168.06</td>\n",
       "      <td>204.12</td>\n",
       "      <td>NaN</td>\n",
       "      <td>6.0</td>\n",
       "      <td>7.0</td>\n",
       "      <td>NaN</td>\n",
       "      <td>28.01</td>\n",
       "      <td>29.16</td>\n",
       "    </tr>\n",
       "  </tbody>\n",
       "</table>\n",
       "</div>"
      ],
      "text/plain": [
       "                                                                                                          Dollars  \\\n",
       "Store                                                                                                     Store 1   \n",
       "Date       Department Category Subcategory UPC EAN      Description                                                 \n",
       "2018-07-10 Booooze    Alcohol  Liqour      80480280024  Grey Goose - Imported Vodka - 750 mL Bottle           NaN   \n",
       "                               Liquor      80432400630  Glenlivet - 12 Year Scotch Whisky - 750 mL Bottle     NaN   \n",
       "                                           674545000001 Don Julio - Tequila Blanco - 750 mL Bottle            NaN   \n",
       "\n",
       "                                                                                                                   \\\n",
       "Store                                                                                                     Store 2   \n",
       "Date       Department Category Subcategory UPC EAN      Description                                                 \n",
       "2018-07-10 Booooze    Alcohol  Liqour      80480280024  Grey Goose - Imported Vodka - 750 mL Bottle        231.30   \n",
       "                               Liquor      80432400630  Glenlivet - 12 Year Scotch Whisky - 750 mL Bottle  172.00   \n",
       "                                           674545000001 Don Julio - Tequila Blanco - 750 mL Bottle         168.06   \n",
       "\n",
       "                                                                                                                   \\\n",
       "Store                                                                                                     Store 3   \n",
       "Date       Department Category Subcategory UPC EAN      Description                                                 \n",
       "2018-07-10 Booooze    Alcohol  Liqour      80480280024  Grey Goose - Imported Vodka - 750 mL Bottle        128.30   \n",
       "                               Liquor      80432400630  Glenlivet - 12 Year Scotch Whisky - 750 mL Bottle  278.80   \n",
       "                                           674545000001 Don Julio - Tequila Blanco - 750 mL Bottle         204.12   \n",
       "\n",
       "                                                                                                            Units  \\\n",
       "Store                                                                                                     Store 1   \n",
       "Date       Department Category Subcategory UPC EAN      Description                                                 \n",
       "2018-07-10 Booooze    Alcohol  Liqour      80480280024  Grey Goose - Imported Vodka - 750 mL Bottle           NaN   \n",
       "                               Liquor      80432400630  Glenlivet - 12 Year Scotch Whisky - 750 mL Bottle     NaN   \n",
       "                                           674545000001 Don Julio - Tequila Blanco - 750 mL Bottle            NaN   \n",
       "\n",
       "                                                                                                                   \\\n",
       "Store                                                                                                     Store 2   \n",
       "Date       Department Category Subcategory UPC EAN      Description                                                 \n",
       "2018-07-10 Booooze    Alcohol  Liqour      80480280024  Grey Goose - Imported Vodka - 750 mL Bottle           9.0   \n",
       "                               Liquor      80432400630  Glenlivet - 12 Year Scotch Whisky - 750 mL Bottle     5.0   \n",
       "                                           674545000001 Don Julio - Tequila Blanco - 750 mL Bottle            6.0   \n",
       "\n",
       "                                                                                                                   \\\n",
       "Store                                                                                                     Store 3   \n",
       "Date       Department Category Subcategory UPC EAN      Description                                                 \n",
       "2018-07-10 Booooze    Alcohol  Liqour      80480280024  Grey Goose - Imported Vodka - 750 mL Bottle           5.0   \n",
       "                               Liquor      80432400630  Glenlivet - 12 Year Scotch Whisky - 750 mL Bottle     8.0   \n",
       "                                           674545000001 Don Julio - Tequila Blanco - 750 mL Bottle            7.0   \n",
       "\n",
       "                                                                                                          Dollars per Unit  \\\n",
       "Store                                                                                                              Store 1   \n",
       "Date       Department Category Subcategory UPC EAN      Description                                                          \n",
       "2018-07-10 Booooze    Alcohol  Liqour      80480280024  Grey Goose - Imported Vodka - 750 mL Bottle                    NaN   \n",
       "                               Liquor      80432400630  Glenlivet - 12 Year Scotch Whisky - 750 mL Bottle              NaN   \n",
       "                                           674545000001 Don Julio - Tequila Blanco - 750 mL Bottle                     NaN   \n",
       "\n",
       "                                                                                                                   \\\n",
       "Store                                                                                                     Store 2   \n",
       "Date       Department Category Subcategory UPC EAN      Description                                                 \n",
       "2018-07-10 Booooze    Alcohol  Liqour      80480280024  Grey Goose - Imported Vodka - 750 mL Bottle         25.70   \n",
       "                               Liquor      80432400630  Glenlivet - 12 Year Scotch Whisky - 750 mL Bottle   34.40   \n",
       "                                           674545000001 Don Julio - Tequila Blanco - 750 mL Bottle          28.01   \n",
       "\n",
       "                                                                                                                   \n",
       "Store                                                                                                     Store 3  \n",
       "Date       Department Category Subcategory UPC EAN      Description                                                \n",
       "2018-07-10 Booooze    Alcohol  Liqour      80480280024  Grey Goose - Imported Vodka - 750 mL Bottle         25.66  \n",
       "                               Liquor      80432400630  Glenlivet - 12 Year Scotch Whisky - 750 mL Bottle   34.85  \n",
       "                                           674545000001 Don Julio - Tequila Blanco - 750 mL Bottle          29.16  "
      ]
     },
     "execution_count": 384,
     "metadata": {},
     "output_type": "execute_result"
    }
   ],
   "source": [
    "# Add a column level for our new measure\n",
    "dollars_per_unit.columns = pd.MultiIndex.from_product([['Dollars per Unit'], dollars_per_unit.columns])\n",
    "\n",
    "# Concat it with our original data\n",
    "pd.concat([multi_col_lvl_df, dollars_per_unit], axis='columns').head(3)"
   ]
  }
 ],
 "metadata": {
  "kernelspec": {
   "display_name": "Python 3",
   "language": "python",
   "name": "python3"
  },
  "language_info": {
   "codemirror_mode": {
    "name": "ipython",
    "version": 3
   },
   "file_extension": ".py",
   "mimetype": "text/x-python",
   "name": "python",
   "nbconvert_exporter": "python",
   "pygments_lexer": "ipython3",
   "version": "3.7.4"
  }
 },
 "nbformat": 4,
 "nbformat_minor": 2
}
